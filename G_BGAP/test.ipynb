{
 "cells": [
  {
   "cell_type": "code",
   "execution_count": 2,
   "metadata": {},
   "outputs": [
    {
     "data": {
      "text/plain": [
       "<torch._C.Generator at 0x7f304387bb90>"
      ]
     },
     "execution_count": 2,
     "metadata": {},
     "output_type": "execute_result"
    }
   ],
   "source": [
    "import torch\n",
    "import torch.nn as nn\n",
    "torch.manual_seed(1)"
   ]
  },
  {
   "cell_type": "code",
   "execution_count": 3,
   "metadata": {},
   "outputs": [],
   "source": [
    "class cnn(nn.Module):\n",
    "\n",
    "    def __init__(self):\n",
    "\n",
    "        super().__init__()        \n",
    "        self.layer1 = nn.Conv2d(1, 2, kernel_size=3, bias=False)\n",
    "\n",
    "    def forward(self, x):\n",
    "        \n",
    "        out = self.layer1(x)\n",
    "        return out"
   ]
  },
  {
   "cell_type": "code",
   "execution_count": 4,
   "metadata": {},
   "outputs": [],
   "source": [
    "x = torch.randn(1, 1, 5, 5)\n",
    "model = cnn()\n",
    "out = model(x)"
   ]
  },
  {
   "cell_type": "code",
   "execution_count": 5,
   "metadata": {},
   "outputs": [
    {
     "data": {
      "text/plain": [
       "torch.Size([1, 2, 3, 3])"
      ]
     },
     "execution_count": 5,
     "metadata": {},
     "output_type": "execute_result"
    }
   ],
   "source": [
    "out.shape"
   ]
  },
  {
   "cell_type": "code",
   "execution_count": 6,
   "metadata": {},
   "outputs": [
    {
     "data": {
      "text/plain": [
       "torch.Size([2, 1, 3, 3])"
      ]
     },
     "execution_count": 6,
     "metadata": {},
     "output_type": "execute_result"
    }
   ],
   "source": [
    "w = model.state_dict()['layer1.weight']\n",
    "w.shape"
   ]
  },
  {
   "cell_type": "code",
   "execution_count": 7,
   "metadata": {},
   "outputs": [
    {
     "data": {
      "text/plain": [
       "tensor([[[[ 4.2621e-01, -6.7413e-03, -1.7986e-01],\n",
       "          [-7.3923e-01,  1.9493e-01, -2.4097e-01],\n",
       "          [ 3.3699e-04, -1.5413e-01, -1.1222e+00]],\n",
       "\n",
       "         [[-1.9412e-01, -9.4184e-01,  9.3807e-01],\n",
       "          [-4.2307e-01,  2.4988e-02,  5.0152e-01],\n",
       "          [-2.7248e-01,  5.9709e-01,  7.1902e-02]]]],\n",
       "       grad_fn=<ThnnConv2DBackward0>)"
      ]
     },
     "execution_count": 7,
     "metadata": {},
     "output_type": "execute_result"
    }
   ],
   "source": [
    "out"
   ]
  },
  {
   "cell_type": "code",
   "execution_count": 8,
   "metadata": {},
   "outputs": [
    {
     "data": {
      "text/plain": [
       "tensor(0.4262)"
      ]
     },
     "execution_count": 8,
     "metadata": {},
     "output_type": "execute_result"
    }
   ],
   "source": [
    "(w[0] * x[0, :, 0:3, 0:3]).sum()"
   ]
  },
  {
   "cell_type": "code",
   "execution_count": 9,
   "metadata": {},
   "outputs": [
    {
     "name": "stdout",
     "output_type": "stream",
     "text": [
      "n_row: 9\n",
      "n_unknown: 25\n"
     ]
    },
    {
     "data": {
      "text/plain": [
       "torch.Size([9, 25])"
      ]
     },
     "execution_count": 9,
     "metadata": {},
     "output_type": "execute_result"
    }
   ],
   "source": [
    "# 输入与输出关系方程式\n",
    "bs, n_channels, width, height = x.shape\n",
    "k_size = w.shape[-1]\n",
    "n_row = (width - k_size + 1)**2\n",
    "print(f'n_row: {n_row}')\n",
    "n_unknown = width*height\n",
    "print(f'n_unknown: {n_unknown}')\n",
    "A_w = torch.zeros(size=(n_row, n_unknown))\n",
    "A_w.shape"
   ]
  },
  {
   "cell_type": "code",
   "execution_count": 10,
   "metadata": {},
   "outputs": [
    {
     "data": {
      "text/plain": [
       "tensor([[[[-0.1410,  0.2500,  0.0039],\n",
       "          [-0.1756,  0.1713, -0.1769],\n",
       "          [ 0.0980, -0.0963, -0.0365]]],\n",
       "\n",
       "\n",
       "        [[[-0.3205, -0.1589,  0.1809],\n",
       "          [-0.0810,  0.3320,  0.2672],\n",
       "          [-0.0156, -0.2225,  0.2030]]]])"
      ]
     },
     "execution_count": 10,
     "metadata": {},
     "output_type": "execute_result"
    }
   ],
   "source": [
    "w"
   ]
  },
  {
   "cell_type": "code",
   "execution_count": 11,
   "metadata": {},
   "outputs": [],
   "source": [
    "n_multi_one_row = width - k_size + 1\n",
    "for k in range(n_multi_one_row):\n",
    "    for i in range(n_multi_one_row):\n",
    "        for j in range(k_size):\n",
    "            A_w[k*n_multi_one_row + i, j*width+i+k*width: j*width+i+k*width+k_size] = w[0, 0, j, :]"
   ]
  },
  {
   "cell_type": "code",
   "execution_count": 12,
   "metadata": {},
   "outputs": [
    {
     "data": {
      "text/plain": [
       "tensor([[-0.1410,  0.2500,  0.0039,  0.0000,  0.0000, -0.1756,  0.1713, -0.1769,\n",
       "          0.0000,  0.0000,  0.0980, -0.0963, -0.0365,  0.0000,  0.0000,  0.0000,\n",
       "          0.0000,  0.0000,  0.0000,  0.0000,  0.0000,  0.0000,  0.0000,  0.0000,\n",
       "          0.0000],\n",
       "        [ 0.0000, -0.1410,  0.2500,  0.0039,  0.0000,  0.0000, -0.1756,  0.1713,\n",
       "         -0.1769,  0.0000,  0.0000,  0.0980, -0.0963, -0.0365,  0.0000,  0.0000,\n",
       "          0.0000,  0.0000,  0.0000,  0.0000,  0.0000,  0.0000,  0.0000,  0.0000,\n",
       "          0.0000],\n",
       "        [ 0.0000,  0.0000, -0.1410,  0.2500,  0.0039,  0.0000,  0.0000, -0.1756,\n",
       "          0.1713, -0.1769,  0.0000,  0.0000,  0.0980, -0.0963, -0.0365,  0.0000,\n",
       "          0.0000,  0.0000,  0.0000,  0.0000,  0.0000,  0.0000,  0.0000,  0.0000,\n",
       "          0.0000],\n",
       "        [ 0.0000,  0.0000,  0.0000,  0.0000,  0.0000, -0.1410,  0.2500,  0.0039,\n",
       "          0.0000,  0.0000, -0.1756,  0.1713, -0.1769,  0.0000,  0.0000,  0.0980,\n",
       "         -0.0963, -0.0365,  0.0000,  0.0000,  0.0000,  0.0000,  0.0000,  0.0000,\n",
       "          0.0000],\n",
       "        [ 0.0000,  0.0000,  0.0000,  0.0000,  0.0000,  0.0000, -0.1410,  0.2500,\n",
       "          0.0039,  0.0000,  0.0000, -0.1756,  0.1713, -0.1769,  0.0000,  0.0000,\n",
       "          0.0980, -0.0963, -0.0365,  0.0000,  0.0000,  0.0000,  0.0000,  0.0000,\n",
       "          0.0000],\n",
       "        [ 0.0000,  0.0000,  0.0000,  0.0000,  0.0000,  0.0000,  0.0000, -0.1410,\n",
       "          0.2500,  0.0039,  0.0000,  0.0000, -0.1756,  0.1713, -0.1769,  0.0000,\n",
       "          0.0000,  0.0980, -0.0963, -0.0365,  0.0000,  0.0000,  0.0000,  0.0000,\n",
       "          0.0000],\n",
       "        [ 0.0000,  0.0000,  0.0000,  0.0000,  0.0000,  0.0000,  0.0000,  0.0000,\n",
       "          0.0000,  0.0000, -0.1410,  0.2500,  0.0039,  0.0000,  0.0000, -0.1756,\n",
       "          0.1713, -0.1769,  0.0000,  0.0000,  0.0980, -0.0963, -0.0365,  0.0000,\n",
       "          0.0000],\n",
       "        [ 0.0000,  0.0000,  0.0000,  0.0000,  0.0000,  0.0000,  0.0000,  0.0000,\n",
       "          0.0000,  0.0000,  0.0000, -0.1410,  0.2500,  0.0039,  0.0000,  0.0000,\n",
       "         -0.1756,  0.1713, -0.1769,  0.0000,  0.0000,  0.0980, -0.0963, -0.0365,\n",
       "          0.0000],\n",
       "        [ 0.0000,  0.0000,  0.0000,  0.0000,  0.0000,  0.0000,  0.0000,  0.0000,\n",
       "          0.0000,  0.0000,  0.0000,  0.0000, -0.1410,  0.2500,  0.0039,  0.0000,\n",
       "          0.0000, -0.1756,  0.1713, -0.1769,  0.0000,  0.0000,  0.0980, -0.0963,\n",
       "         -0.0365]])"
      ]
     },
     "execution_count": 12,
     "metadata": {},
     "output_type": "execute_result"
    }
   ],
   "source": [
    "A_w"
   ]
  },
  {
   "cell_type": "code",
   "execution_count": 13,
   "metadata": {},
   "outputs": [
    {
     "data": {
      "text/plain": [
       "tensor([[ 4.2621e-01],\n",
       "        [-6.7413e-03],\n",
       "        [-1.7986e-01],\n",
       "        [-7.3923e-01],\n",
       "        [ 1.9493e-01],\n",
       "        [-2.4097e-01],\n",
       "        [ 3.3698e-04],\n",
       "        [-1.5413e-01],\n",
       "        [-1.1222e+00]])"
      ]
     },
     "execution_count": 13,
     "metadata": {},
     "output_type": "execute_result"
    }
   ],
   "source": [
    "x_flatten = x.reshape(-1,1)\n",
    "x_flatten.shape\n",
    "torch.mm(A_w, x_flatten)"
   ]
  },
  {
   "cell_type": "code",
   "execution_count": 17,
   "metadata": {},
   "outputs": [
    {
     "data": {
      "text/plain": [
       "tensor([[ 4.2621e-01],\n",
       "        [-6.7413e-03],\n",
       "        [-1.7986e-01],\n",
       "        [-7.3923e-01],\n",
       "        [ 1.9493e-01],\n",
       "        [-2.4097e-01],\n",
       "        [ 3.3699e-04],\n",
       "        [-1.5413e-01],\n",
       "        [-1.1222e+00],\n",
       "        [-1.9412e-01],\n",
       "        [-9.4184e-01],\n",
       "        [ 9.3807e-01],\n",
       "        [-4.2307e-01],\n",
       "        [ 2.4988e-02],\n",
       "        [ 5.0152e-01],\n",
       "        [-2.7248e-01],\n",
       "        [ 5.9709e-01],\n",
       "        [ 7.1902e-02]], grad_fn=<ReshapeAliasBackward0>)"
      ]
     },
     "execution_count": 17,
     "metadata": {},
     "output_type": "execute_result"
    }
   ],
   "source": [
    "out_flatten = out.reshape(-1,1)\n",
    "out_flatten"
   ]
  },
  {
   "cell_type": "code",
   "execution_count": 26,
   "metadata": {},
   "outputs": [
    {
     "name": "stdout",
     "output_type": "stream",
     "text": [
      "(9, 25)\n"
     ]
    }
   ],
   "source": [
    "import numpy as np\n",
    "\n",
    "A_w_numpy = A_w.numpy()\n",
    "print(A_w_numpy.shape)\n",
    "b_w_numpy = out_flatten[0: n_row, :].detach().clone().numpy()\n",
    "pred_input, _, rank, _ = np.linalg.lstsq(A_w_numpy, b_w_numpy, rcond=None)"
   ]
  },
  {
   "cell_type": "code",
   "execution_count": 25,
   "metadata": {},
   "outputs": [
    {
     "data": {
      "text/plain": [
       "9"
      ]
     },
     "execution_count": 25,
     "metadata": {},
     "output_type": "execute_result"
    }
   ],
   "source": [
    "rank"
   ]
  },
  {
   "cell_type": "code",
   "execution_count": 24,
   "metadata": {},
   "outputs": [
    {
     "data": {
      "text/plain": [
       "tensor(0.5968)"
      ]
     },
     "execution_count": 24,
     "metadata": {},
     "output_type": "execute_result"
    }
   ],
   "source": [
    "loss_fn = nn.MSELoss()\n",
    "\n",
    "pred_input = torch.as_tensor(pred_input).view(-1,1)\n",
    "loss_fn(pred_input, x_flatten)"
   ]
  },
  {
   "cell_type": "code",
   "execution_count": 27,
   "metadata": {},
   "outputs": [
    {
     "data": {
      "text/plain": [
       "array([[-0.37953302],\n",
       "       [ 0.90946215],\n",
       "       [ 0.1467992 ],\n",
       "       [-0.99178755],\n",
       "       [-0.01555615],\n",
       "       [ 0.52261424],\n",
       "       [-0.5170077 ],\n",
       "       [-0.8962344 ],\n",
       "       [-0.5225682 ],\n",
       "       [ 0.69526553],\n",
       "       [ 1.5921052 ],\n",
       "       [-0.0812735 ],\n",
       "       [-0.07212831],\n",
       "       [-1.6438159 ],\n",
       "       [ 0.19572845],\n",
       "       [-0.58078897],\n",
       "       [ 1.5966632 ],\n",
       "       [ 1.1323937 ],\n",
       "       [-0.21359588],\n",
       "       [ 1.8455153 ],\n",
       "       [-0.06195998],\n",
       "       [-0.70236546],\n",
       "       [-0.23952259],\n",
       "       [ 1.2780426 ],\n",
       "       [ 0.37722492]], dtype=float32)"
      ]
     },
     "execution_count": 27,
     "metadata": {},
     "output_type": "execute_result"
    }
   ],
   "source": [
    "pred_input"
   ]
  }
 ],
 "metadata": {
  "interpreter": {
   "hash": "2c28a781146d2d4fefba01a6455f436900313a44c81a2f6c80f1b26e0042129c"
  },
  "kernelspec": {
   "display_name": "Python 3.8.12 ('grad_inversion')",
   "language": "python",
   "name": "python3"
  },
  "language_info": {
   "codemirror_mode": {
    "name": "ipython",
    "version": 3
   },
   "file_extension": ".py",
   "mimetype": "text/x-python",
   "name": "python",
   "nbconvert_exporter": "python",
   "pygments_lexer": "ipython3",
   "version": "3.8.12"
  },
  "orig_nbformat": 4
 },
 "nbformat": 4,
 "nbformat_minor": 2
}
