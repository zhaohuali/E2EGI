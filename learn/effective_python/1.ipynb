{
 "cells": [
  {
   "cell_type": "markdown",
   "metadata": {},
   "source": [
    "### 为每个函数、类和模块编写文档字符串"
   ]
  },
  {
   "cell_type": "code",
   "execution_count": 42,
   "metadata": {},
   "outputs": [
    {
     "name": "stdout",
     "output_type": "stream",
     "text": [
      "'test function'\n",
      "Help on function test in module __main__:\n",
      "\n",
      "test()\n",
      "    test function\n",
      "\n"
     ]
    }
   ],
   "source": [
    "# python 代码支持文档字符串和__doc__属性\n",
    "def test():\n",
    "    \"\"\"test function\"\"\"\n",
    "    a = 1\n",
    "\n",
    "print(repr(test.__doc__))\n",
    "help(test)"
   ]
  },
  {
   "cell_type": "markdown",
   "metadata": {},
   "source": [
    "### 在重视精确度的场合，应该使用 decimal"
   ]
  },
  {
   "cell_type": "code",
   "execution_count": 38,
   "metadata": {},
   "outputs": [
    {
     "name": "stdout",
     "output_type": "stream",
     "text": [
      "5.365\n",
      "5.37\n"
     ]
    }
   ],
   "source": [
    "# decimal 可以控制精度和舍入方式\n",
    "from decimal import Decimal\n",
    "import decimal\n",
    "rate = Decimal('1.45')\n",
    "seconds = Decimal('222')\n",
    "cost = rate * seconds / Decimal('60')\n",
    "print(cost)\n",
    "\n",
    "rounded = cost.quantize(Decimal('0.01'), rounding=decimal.ROUND_UP)\n",
    "print(rounded)"
   ]
  },
  {
   "cell_type": "markdown",
   "metadata": {},
   "source": [
    "### 使用内置算法与数据结构"
   ]
  },
  {
   "cell_type": "markdown",
   "metadata": {},
   "source": [
    "#### 双向队列：collections.deque"
   ]
  },
  {
   "cell_type": "code",
   "execution_count": 23,
   "metadata": {},
   "outputs": [
    {
     "name": "stdout",
     "output_type": "stream",
     "text": [
      "0:00:00.000100\n",
      "0:00:00.000088\n",
      "0:00:00.000094\n",
      "0:00:00.000100\n"
     ]
    }
   ],
   "source": [
    "# 双向队列：collections.deque，从队列的头部或尾部插入或移除一个元素，只需消耗常数级别的时间\n",
    "# 非常适合：先进先出队列 FIFO\n",
    "# list：list在尾部插入或移除元素，是常数级别时间；但在list头部插入或移除元素，需要消耗线性级别时间\n",
    "from collections import deque\n",
    "fifo = deque()\n",
    "fifo.append(1)\n",
    "fifo.popleft()"
   ]
  },
  {
   "cell_type": "markdown",
   "metadata": {},
   "source": [
    "#### 有序字典 collections.OrderedDict"
   ]
  },
  {
   "cell_type": "code",
   "execution_count": 24,
   "metadata": {},
   "outputs": [
    {
     "name": "stdout",
     "output_type": "stream",
     "text": [
      "1 red\n",
      "2 blue\n"
     ]
    }
   ],
   "source": [
    "# 标准的字典是无序的\n",
    "# OrderedDict 能按照键的插入顺序，来保留键值对在字典中的次序\n",
    "# 在OrderedDict上根据键来迭代时，其行为是确定的\n",
    "from collections import OrderedDict\n",
    "\n",
    "a = OrderedDict()\n",
    "a['foo'] = 1\n",
    "a['bar'] = 2\n",
    "b = OrderedDict()\n",
    "b['foo'] = 'red'\n",
    "b['bar'] = 'blue'\n",
    "for v1, v2 in zip(a.values(), b.values()):\n",
    "    print(v1, v2)"
   ]
  },
  {
   "cell_type": "markdown",
   "metadata": {},
   "source": [
    "#### 带有默认值的字典 collections.defaultdict"
   ]
  },
  {
   "cell_type": "code",
   "execution_count": 25,
   "metadata": {},
   "outputs": [
    {
     "name": "stdout",
     "output_type": "stream",
     "text": [
      "defaultdict(<class 'int'>, {'a': 1})\n"
     ]
    }
   ],
   "source": [
    "# defaultdict: 如果字典里面没有待访问的键，就可以自动把某个默认值与这个键自动关联起来\n",
    "from collections import defaultdict\n",
    "states = defaultdict(int) # 使用内置的int函数来创建字典，默认值为0\n",
    "states['a'] += 1\n",
    "print(states)"
   ]
  },
  {
   "cell_type": "markdown",
   "metadata": {},
   "source": [
    "#### 堆队列（优先级队列）heapq"
   ]
  },
  {
   "cell_type": "code",
   "execution_count": 28,
   "metadata": {},
   "outputs": [
    {
     "name": "stdout",
     "output_type": "stream",
     "text": [
      "[3, 4, 7, 5]\n",
      "3 4 5 7\n"
     ]
    }
   ],
   "source": [
    "# heaqp 操作所消耗的时间，与列表长度的对数成正比（优势）\n",
    "# 对比：如果在普通的python列表上面执行相关操作，需要消耗线性级别的时间\n",
    "from heapq import heappush, heappop\n",
    "a = []\n",
    "heappush(a, 5)\n",
    "heappush(a, 3)\n",
    "heappush(a, 7)\n",
    "heappush(a, 4)\n",
    "print(a) # 自动排好序，第一个元素总是最小的\n",
    "print(heappop(a), heappop(a), heappop(a), heappop(a)) # 依次取出最小元素"
   ]
  },
  {
   "cell_type": "markdown",
   "metadata": {},
   "source": [
    "#### 二分查找 bisect.bisect_left"
   ]
  },
  {
   "cell_type": "code",
   "execution_count": 35,
   "metadata": {},
   "outputs": [
    {
     "name": "stdout",
     "output_type": "stream",
     "text": [
      "991234\n",
      "100\n",
      "102\n"
     ]
    }
   ],
   "source": [
    "# bisect_left会返回待搜寻的值在序列中的插入点\n",
    "# bisect_left 二分搜索算法的复杂度是对数级别的\n",
    "from bisect import bisect_left, bisect_right\n",
    "x = list(range(10**6))\n",
    "i = bisect_left(x, 991234)\n",
    "print(i)\n",
    "x[100] = 100\n",
    "x[101] = 100\n",
    "i = bisect_left(x, 100)\n",
    "print(i)\n",
    "i = bisect_right(x, 100)\n",
    "print(i)"
   ]
  },
  {
   "cell_type": "markdown",
   "metadata": {},
   "source": [
    "#### 与迭代器有关的工具：itertools\n",
    "\n",
    "能够把迭代器连接起来\n",
    "- chain：将多个迭代器按顺序连成一个迭代器\n",
    "- cycle：无限地重复某个迭代器中的各个元素\n",
    "- tee：把一个迭代器拆分成多个平行的迭代器\n",
    "- zip_longest：与内置的zip函数相似，但是可以应对长度不同的迭代器\n",
    "\n",
    "能够从迭代器中过滤元素的函数：\n",
    "- islice：在不进行复制的前提下，根据索引值来切割迭代器\n",
    "- takewhile：在判定函数为True的时候，从迭代器中逐个返回元素\n",
    "- dropwhile：从判别函数初次为False的地方开始，逐个返回迭代器中的元素\n",
    "- filterfalse：从迭代器中逐个返回能令判定函数为False的所有元素，与filter相反\n",
    "\n",
    "能够把迭代器中元素组合起来的函数：\n",
    "- product：根据迭代器中的元素计算笛卡尔积，并将其返回，可以用此来改写深度嵌套的列表推导操作\n",
    "- permutations：用迭代器中的元素构建长度为N的各种有序排列，并将所有排队形式返回给调用者\n",
    "- combinations：用迭代器中的元素构建长度为N的各种无序排列"
   ]
  },
  {
   "cell_type": "markdown",
   "metadata": {},
   "source": [
    "### 应该用 datatime 模块来处理本地时间，而不是用time模块"
   ]
  },
  {
   "cell_type": "code",
   "execution_count": 6,
   "metadata": {},
   "outputs": [
    {
     "name": "stdout",
     "output_type": "stream",
     "text": [
      "2022-05-22 16:56:30+08:00\n",
      "1653181170.0\n"
     ]
    }
   ],
   "source": [
    "# 协调世界时（Coordinated Universal Time UTC）是一个标准的时间表达式，与时区无关\n",
    "\n",
    "# 把UTC格式的当前时间，转换为计算机所用的本地时间\n",
    "from datetime import datetime, timezone\n",
    "now = datetime(2022, 5, 22, 8, 56, 30)\n",
    "now_utc = now.replace(tzinfo=timezone.utc)\n",
    "now_local = now_utc.astimezone()\n",
    "print(now_local)\n",
    "\n",
    "# 把本地时间转换为UTC格式的UNIX时间戳\n",
    "from time import mktime\n",
    "time_str = '2022-05-22 08:59:30'\n",
    "time_format = '%Y-%m-%d %H:%M:%S'\n",
    "now = datetime.strptime(time_str, time_format)\n",
    "time_tuple = now.timetuple()\n",
    "utc_now = mktime(time_tuple)\n",
    "print(utc_now)"
   ]
  },
  {
   "cell_type": "markdown",
   "metadata": {},
   "source": [
    "### 用 copyreg 实现可靠的 pickle 操作"
   ]
  },
  {
   "cell_type": "code",
   "execution_count": 15,
   "metadata": {},
   "outputs": [
    {
     "name": "stdout",
     "output_type": "stream",
     "text": [
      "{'level': 0, 'lives': 4, 'points': 1000}\n",
      "{'level': 0, 'lives': 4, 'points': 1000, 'magic': 5}\n"
     ]
    }
   ],
   "source": [
    "# pickle 模块能够将python对象序列化为字节流，也能反序列为python对象\n",
    "# pickle 模型所产生的的序列化数据是一种不安全的格式，序列化数据实际上是一个程序， 描述了如何来创建原始的python对象\n",
    "# pickle 模块只适合用来在彼此信任的程序之间，对相关对象执行序列化和反序列化操作\n",
    "# json模块安全，序列化后的json数据，只是包含简单的描述信息\n",
    "\n",
    "# 使用 copyreg为缺失的属性提供默认值\n",
    "import copyreg\n",
    "import pickle\n",
    "\n",
    "class GameState:\n",
    "    def __init__(self, level=0, lives=4, points=0):\n",
    "        self.level = level\n",
    "        self.lives = lives\n",
    "        self.points = points\n",
    "\n",
    "def pickle_game_state(game_state):\n",
    "    kwargs = game_state.__dict__\n",
    "    return unpickle_game_state, (kwargs,)\n",
    "\n",
    "def unpickle_game_state(kwargs):\n",
    "    return GameState(**kwargs)\n",
    "\n",
    "copyreg.pickle(GameState, pickle_game_state) # copyreg模块来注册pickle_game_state函数\n",
    "\n",
    "# 序列化和反序列化\n",
    "state = GameState()\n",
    "state.points += 1000\n",
    "serialized = pickle.dumps(state)\n",
    "state_after = pickle.loads(serialized)\n",
    "print(state_after.__dict__)\n",
    "\n",
    "# 更新GameState，添加新的变量\n",
    "class GameState:\n",
    "    def __init__(self, level=0, lives=4, points=0, magic=5):\n",
    "        self.level = level\n",
    "        self.lives = lives\n",
    "        self.points = points\n",
    "        self.magic = magic\n",
    "\n",
    "state_after = pickle.loads(serialized)\n",
    "print(state_after.__dict__) # magic有了默认值，若不采用copyreg注册，则该项会丢失"
   ]
  },
  {
   "cell_type": "code",
   "execution_count": 16,
   "metadata": {},
   "outputs": [
    {
     "name": "stdout",
     "output_type": "stream",
     "text": [
      "{'level': 0, 'points': 1000, 'magic': 5}\n"
     ]
    }
   ],
   "source": [
    "# 用版本号来管理类：当更新后的对象删除了某些变量，则旧的对象反序列化会报错\n",
    "def pickle_game_state(game_state):\n",
    "    kwargs = game_state.__dict__\n",
    "    kwargs['version'] = 2 # 添加版本标记\n",
    "    return unpickle_game_state, (kwargs,)\n",
    "\n",
    "def unpickle_game_state(kwargs):\n",
    "    version = kwargs.pop('version', 1) # 不存在该key时默认为1\n",
    "    if version == 1:\n",
    "        kwargs.pop('lives')\n",
    "    return GameState(**kwargs)\n",
    "\n",
    "# 更新版本， 删除 lives\n",
    "class GameState:\n",
    "    def __init__(self, level=0, points=0, magic=5):\n",
    "        self.level = level\n",
    "        self.points = points\n",
    "        self.magic = magic\n",
    "\n",
    "copyreg.pickle(GameState, pickle_game_state)\n",
    "\n",
    "state_after = pickle.loads(serialized)\n",
    "print(state_after.__dict__) # 旧版中有lives，新版的反序列化不会报错"
   ]
  },
  {
   "cell_type": "code",
   "execution_count": 18,
   "metadata": {},
   "outputs": [
    {
     "name": "stdout",
     "output_type": "stream",
     "text": [
      "{'level': 0, 'points': 1000, 'magic': 5}\n"
     ]
    }
   ],
   "source": [
    "# 固定引入路径： 当原来类的路径改变或改名后，旧的序列数据就无法反序列化\n",
    "# 用copyreg来注册pickle_game_state，则序列化数据不再指向类，而是unpickle_game_state函数\n",
    "# 因此要求unpickle_game_state不能发生改变\n",
    "class GameState:\n",
    "    def __init__(self, level=0, points=0, magic=5):\n",
    "        self.level = level\n",
    "        self.points = points\n",
    "        self.magic = magic\n",
    "\n",
    "class GameStateNew:\n",
    "    def __init__(self, level=0, points=0, magic=5):\n",
    "        self.level = level\n",
    "        self.points = points\n",
    "        self.magic = magic\n",
    "\n",
    "def unpickle_game_state(kwargs):\n",
    "    version = kwargs.pop('version', 1) # 不存在该key时默认为1\n",
    "    if version == 1:\n",
    "        kwargs.pop('lives')\n",
    "    return GameStateNew(**kwargs)\n",
    "\n",
    "copyreg.pickle(GameState, pickle_game_state)\n",
    "\n",
    "state = GameState()\n",
    "state.points += 1000\n",
    "serialized = pickle.dumps(state)\n",
    "state_after = pickle.loads(serialized)\n",
    "print(state_after.__dict__)"
   ]
  },
  {
   "cell_type": "markdown",
   "metadata": {},
   "source": [
    "###  考虑用 contextlib 和 with 语句来改写可复用的try/finally代码"
   ]
  },
  {
   "cell_type": "code",
   "execution_count": 7,
   "metadata": {},
   "outputs": [
    {
     "name": "stderr",
     "output_type": "stream",
     "text": [
      "DEBUG:root:Some debug data\n",
      "ERROR:root:Error log here\n",
      "DEBUG:root:More debug data\n",
      "ERROR:root:Error log here\n"
     ]
    },
    {
     "name": "stdout",
     "output_type": "stream",
     "text": [
      "in with\n",
      "out with\n"
     ]
    }
   ],
   "source": [
    "# 用 with 语句可以免去编写 try/finally 结构所需的重复代码\n",
    "# 通过contextmanager装饰器，来使得函数可用在with语句之中\n",
    "# 定义一种情境管理器，来临时提升logging打印的信息级别\n",
    "import logging\n",
    "from contextlib import contextmanager\n",
    "\n",
    "@contextmanager\n",
    "def debug_logging(level):\n",
    "    logger = logging.getLogger()\n",
    "    old_level = logger.getEffectiveLevel()\n",
    "    logger.setLevel(level)\n",
    "    try:\n",
    "        yield # with 块中的语句所要展开执行的地方，with 块所抛出的任何异常，都有yield表达式重新抛出\n",
    "    finally:\n",
    "        logger.setLevel(old_level)\n",
    "\n",
    "def my_func():\n",
    "    logging.debug('Some debug data')\n",
    "    logging.error('Error log here')\n",
    "    logging.debug('More debug data')\n",
    "\n",
    "with debug_logging(logging.DEBUG):\n",
    "    print('in with')\n",
    "    my_func()\n",
    "print('out with')\n",
    "my_func() # 只打印error，因为打印级别默认为warning"
   ]
  },
  {
   "cell_type": "code",
   "execution_count": 8,
   "metadata": {},
   "outputs": [],
   "source": [
    "# with as 语句，传给 with 语句的那个情境管理器，本身会可以返回一个对象\n",
    "# 通过 as 来创建一个局部变量，指向返回的对象\n",
    "# 例如，打印文件写入数据，with后自动关闭句柄\n",
    "with open('./test.txt', 'w') as handle:\n",
    "    handle.write('data')"
   ]
  },
  {
   "cell_type": "code",
   "execution_count": 11,
   "metadata": {},
   "outputs": [
    {
     "name": "stderr",
     "output_type": "stream",
     "text": [
      "DEBUG:my-log:This is my message\n"
     ]
    },
    {
     "name": "stdout",
     "output_type": "stream",
     "text": [
      "<Logger my-log (DEBUG)>\n",
      "<Logger my-log (WARNING)>\n"
     ]
    }
   ],
   "source": [
    "# 在自定义的情境管理器中，只需要在yield后面加上一个对象，则返回as关键字所指定的目标变量\n",
    "@contextmanager\n",
    "def debug_logging(level, name):\n",
    "    logger = logging.getLogger(name)\n",
    "    old_level = logger.getEffectiveLevel()\n",
    "    logger.setLevel(level)\n",
    "    try:\n",
    "        yield logger\n",
    "    finally:\n",
    "        logger.setLevel(old_level)\n",
    "\n",
    "with debug_logging(logging.DEBUG, 'my-log') as logger:\n",
    "    print(logger)\n",
    "    logger.debug('This is my message')\n",
    "    logging.debug('This is not print') # 系统本身的logging的打印级别还是warning\n",
    "\n",
    "print(logger) # 恢复成warning"
   ]
  },
  {
   "cell_type": "markdown",
   "metadata": {},
   "source": [
    "### 用 functools.wraps 定义函数修饰器"
   ]
  },
  {
   "cell_type": "code",
   "execution_count": 9,
   "metadata": {},
   "outputs": [
    {
     "name": "stdout",
     "output_type": "stream",
     "text": [
      "<function fibonacci at 0x7f7792d280d0>\n",
      "fibonacci((1,), {}) -> 1\n",
      "fibonacci((0,), {}) -> 0\n",
      "fibonacci((1,), {}) -> 1\n",
      "fibonacci((2,), {}) -> 1\n",
      "fibonacci((3,), {}) -> 2\n",
      "fibonacci((0,), {}) -> 0\n",
      "fibonacci((1,), {}) -> 1\n",
      "fibonacci((2,), {}) -> 1\n",
      "fibonacci((1,), {}) -> 1\n",
      "fibonacci((0,), {}) -> 0\n",
      "fibonacci((1,), {}) -> 1\n",
      "fibonacci((2,), {}) -> 1\n",
      "fibonacci((3,), {}) -> 2\n",
      "fibonacci((4,), {}) -> 3\n",
      "fibonacci((5,), {}) -> 5\n",
      "Help on function fibonacci in module __main__:\n",
      "\n",
      "fibonacci(n)\n",
      "    return the n-th fibonacci number\n",
      "\n",
      "None\n"
     ]
    }
   ],
   "source": [
    "# 装饰器：用来装饰函数，对于受到封装的原函数来说，装饰器能够在那个函数执行之前以及执行完毕后，\n",
    "# 分别运行一些附加代码，这使得开发者可以在装饰器里访问并修改原函数的参数及返回值。\n",
    "# 以实现约束语义（enforce semantics）、调试程序、注册函数等目标\n",
    "\n",
    "# 例子：打印递归栈的每一个层级上所具备的参数和返回值\n",
    "from functools import wraps\n",
    "\n",
    "def trace(func):\n",
    "    @wraps(func) # 必须加，保留原函数的某些标准python属性\n",
    "    def wrapper(*args, **kwargs):\n",
    "        result = func(*args, **kwargs)\n",
    "        print('%s(%r, %r) -> %r'%\n",
    "            (func.__name__, args, kwargs, result))\n",
    "        return result\n",
    "    return wrapper\n",
    "\n",
    "@trace\n",
    "def fibonacci(n):\n",
    "    \"\"\"return the n-th fibonacci number\"\"\"\n",
    "    if n in (0, 1):\n",
    "        return n\n",
    "    return (fibonacci(n-2) + fibonacci(n-1))\n",
    "# 等同于 fibonacci = trace(fibonacci)\n",
    "\n",
    "print(fibonacci)\n",
    "fibonacci(5)\n",
    "print(help(fibonacci))"
   ]
  },
  {
   "cell_type": "markdown",
   "metadata": {},
   "source": [
    "### 用元类来验证子类"
   ]
  },
  {
   "cell_type": "code",
   "execution_count": 17,
   "metadata": {},
   "outputs": [
    {
     "name": "stdout",
     "output_type": "stream",
     "text": [
      "(<class '__main__.Meta'>, 'test', (<class 'object'>,), {'__module__': '__main__', '__qualname__': 'test', 'a': None})\n",
      "(<class '__main__.Meta'>, 'subtest', (<class '__main__.test'>,), {'__module__': '__main__', '__qualname__': 'subtest', 'a': -1})\n"
     ]
    },
    {
     "ename": "ValueError",
     "evalue": "a must be [0, 1]",
     "output_type": "error",
     "traceback": [
      "\u001b[0;31m---------------------------------------------------------------------------\u001b[0m",
      "\u001b[0;31mValueError\u001b[0m                                Traceback (most recent call last)",
      "\u001b[0;32m/tmp/ipykernel_1066839/1479320543.py\u001b[0m in \u001b[0;36m<module>\u001b[0;34m\u001b[0m\n\u001b[1;32m     12\u001b[0m     \u001b[0ma\u001b[0m \u001b[0;34m=\u001b[0m \u001b[0;32mNone\u001b[0m \u001b[0;31m# 由子类指定\u001b[0m\u001b[0;34m\u001b[0m\u001b[0;34m\u001b[0m\u001b[0m\n\u001b[1;32m     13\u001b[0m \u001b[0;34m\u001b[0m\u001b[0m\n\u001b[0;32m---> 14\u001b[0;31m \u001b[0;32mclass\u001b[0m \u001b[0msubtest\u001b[0m\u001b[0;34m(\u001b[0m\u001b[0mtest\u001b[0m\u001b[0;34m)\u001b[0m\u001b[0;34m:\u001b[0m\u001b[0;34m\u001b[0m\u001b[0;34m\u001b[0m\u001b[0m\n\u001b[0m\u001b[1;32m     15\u001b[0m     \u001b[0ma\u001b[0m \u001b[0;34m=\u001b[0m \u001b[0;34m-\u001b[0m\u001b[0;36m1\u001b[0m\u001b[0;34m\u001b[0m\u001b[0;34m\u001b[0m\u001b[0m\n\u001b[1;32m     16\u001b[0m \u001b[0;34m\u001b[0m\u001b[0m\n",
      "\u001b[0;32m/tmp/ipykernel_1066839/1479320543.py\u001b[0m in \u001b[0;36m__new__\u001b[0;34m(meta, name, bases, class_dict)\u001b[0m\n\u001b[1;32m      6\u001b[0m         \u001b[0;32mif\u001b[0m \u001b[0mbases\u001b[0m \u001b[0;34m!=\u001b[0m \u001b[0;34m(\u001b[0m\u001b[0mobject\u001b[0m\u001b[0;34m,\u001b[0m\u001b[0;34m)\u001b[0m\u001b[0;34m:\u001b[0m \u001b[0;31m# 仅验证子类，不验证基类\u001b[0m\u001b[0;34m\u001b[0m\u001b[0;34m\u001b[0m\u001b[0m\n\u001b[1;32m      7\u001b[0m             \u001b[0;32mif\u001b[0m \u001b[0;32mnot\u001b[0m \u001b[0;34m(\u001b[0m\u001b[0;36m0\u001b[0m \u001b[0;34m<=\u001b[0m \u001b[0mclass_dict\u001b[0m\u001b[0;34m[\u001b[0m\u001b[0;34m'a'\u001b[0m\u001b[0;34m]\u001b[0m \u001b[0;34m<=\u001b[0m\u001b[0;36m1\u001b[0m\u001b[0;34m)\u001b[0m\u001b[0;34m:\u001b[0m\u001b[0;34m\u001b[0m\u001b[0;34m\u001b[0m\u001b[0m\n\u001b[0;32m----> 8\u001b[0;31m                 \u001b[0;32mraise\u001b[0m \u001b[0mValueError\u001b[0m\u001b[0;34m(\u001b[0m\u001b[0;34m'a must be [0, 1]'\u001b[0m\u001b[0;34m)\u001b[0m\u001b[0;34m\u001b[0m\u001b[0;34m\u001b[0m\u001b[0m\n\u001b[0m\u001b[1;32m      9\u001b[0m         \u001b[0;32mreturn\u001b[0m \u001b[0mtype\u001b[0m\u001b[0;34m.\u001b[0m\u001b[0m__new__\u001b[0m\u001b[0;34m(\u001b[0m\u001b[0mmeta\u001b[0m\u001b[0;34m,\u001b[0m \u001b[0mname\u001b[0m\u001b[0;34m,\u001b[0m \u001b[0mbases\u001b[0m\u001b[0;34m,\u001b[0m \u001b[0mclass_dict\u001b[0m\u001b[0;34m)\u001b[0m\u001b[0;34m\u001b[0m\u001b[0;34m\u001b[0m\u001b[0m\n\u001b[1;32m     10\u001b[0m \u001b[0;34m\u001b[0m\u001b[0m\n",
      "\u001b[0;31mValueError\u001b[0m: a must be [0, 1]"
     ]
    }
   ],
   "source": [
    "# 用元类来验证子类中的属性a的取值在[0,1]\n",
    "\n",
    "class Meta(type): # 定义元类，继承于type\n",
    "    def __new__(meta, name, bases, class_dict):\n",
    "        print((meta, name, bases, class_dict))\n",
    "        if bases != (object,): # 仅验证子类，不验证基类\n",
    "            if not (0 <= class_dict['a'] <=1):\n",
    "                raise ValueError('a must be [0, 1]')\n",
    "        return type.__new__(meta, name, bases, class_dict)\n",
    "\n",
    "class test(object, metaclass=Meta): # 定义基类\n",
    "    a = None # 由子类指定\n",
    "\n",
    "class subtest(test):\n",
    "    a = -1\n",
    "\n",
    "st = subtest() # 报错，元类验证了a"
   ]
  },
  {
   "cell_type": "markdown",
   "metadata": {},
   "source": [
    "### \\_\\_getattr\\_\\_ \\_\\_getattribute\\_\\_ __setattr__ （此类挂钩）实现按需生成的属性"
   ]
  },
  {
   "cell_type": "code",
   "execution_count": 8,
   "metadata": {},
   "outputs": [
    {
     "name": "stdout",
     "output_type": "stream",
     "text": [
      "before: {'a': 5}\n",
      "foo: Value for foo\n",
      "after: {'a': 5, 'foo': 'Value for foo'}\n"
     ]
    }
   ],
   "source": [
    "# 若某个类定义了__getattr__,同时系统在该类对象的实例字典中找不到待查询的属性，则会调用这个方法\n",
    "class test:\n",
    "    def __init__(self):\n",
    "        self.a = 5\n",
    "    \n",
    "    def __getattr__(self, name):\n",
    "        value = 'Value for %s'% name\n",
    "        setattr(self, name, value) # 创建变量\n",
    "        return value\n",
    "\n",
    "t = test()\n",
    "print(f'before: {t.__dict__}')\n",
    "print(f'foo: {t.foo}') # 调用了__getattr__\n",
    "print(f'after: {t.__dict__}')"
   ]
  },
  {
   "cell_type": "code",
   "execution_count": 10,
   "metadata": {},
   "outputs": [
    {
     "name": "stdout",
     "output_type": "stream",
     "text": [
      "call subtest __getattr__\n",
      "Value for b\n",
      "Value for b\n"
     ]
    }
   ],
   "source": [
    "# 子类定义__getattr__，容易出现无限递归\n",
    "class subtest(test):\n",
    "    def __getattr__(self, name):\n",
    "        print('call subtest __getattr__')\n",
    "        return super().__getattr__(name) #  通过此方法来调用父类的方法，避免无限递归\n",
    "\n",
    "st = subtest()\n",
    "print(st.b)\n",
    "print(st.b) # 已存在"
   ]
  },
  {
   "cell_type": "code",
   "execution_count": 12,
   "metadata": {},
   "outputs": [
    {
     "name": "stdout",
     "output_type": "stream",
     "text": [
      "called __getattribute__(a)\n",
      "Value for a\n",
      "called __getattribute__(a)\n",
      "None\n"
     ]
    }
   ],
   "source": [
    "# __getattribute__：每次访问对象的属性都会调用该函数，可以起到动态监控属性情况\n",
    "# 而__getattr__只会调用一次（当属性未创建时）\n",
    "class test:\n",
    "    def __getattribute__(self, name):\n",
    "        print(f'called __getattribute__({name})')\n",
    "        try:\n",
    "            super().__getattribute__(name) \n",
    "        except AttributeError: # 若属性不存在，会报错AttributeError\n",
    "            value = 'Value for %s'% name\n",
    "            setattr(self, name, value)\n",
    "            return value\n",
    "\n",
    "t = test()\n",
    "print(t.a)\n",
    "print(t.a)# 每次访问都调用__getattribute__方法"
   ]
  },
  {
   "cell_type": "code",
   "execution_count": 15,
   "metadata": {},
   "outputs": [
    {
     "name": "stdout",
     "output_type": "stream",
     "text": [
      "call subtest:__setattr__\n",
      "call test:__setattr__\n",
      "1\n",
      "call subtest:__setattr__\n",
      "call test:__setattr__\n",
      "2\n"
     ]
    }
   ],
   "source": [
    "# __setattr__当对对象的属性赋值时，会调用此函数\n",
    "class test:\n",
    "    def __setattr__(self, name, value):\n",
    "        print('call test:__setattr__')\n",
    "        super().__setattr__(name, value)\n",
    "\n",
    "class subtest(test):\n",
    "    def __setattr__(self, name, value):\n",
    "        print('call subtest:__setattr__')\n",
    "        super().__setattr__(name, value)\n",
    "\n",
    "st = subtest()\n",
    "st.a = 1\n",
    "print(st.a)\n",
    "st.b = 2\n",
    "print(st.b)"
   ]
  },
  {
   "cell_type": "code",
   "execution_count": 16,
   "metadata": {},
   "outputs": [
    {
     "name": "stdout",
     "output_type": "stream",
     "text": [
      "1\n"
     ]
    }
   ],
   "source": [
    "# 注意无限递归问题\n",
    "# 在__getattribute__和__setattr__中都要用到super().__XX__来避免无限递归\n",
    "class test:\n",
    "    def __init__(self, data):\n",
    "        self._data = data\n",
    "    \n",
    "    def __getattribute__(self, name):\n",
    "        data_dict = super().__getattribute__('_data') # 从实例的属性字典里直接取值，避免无限循环\n",
    "        return data_dict[name]\n",
    "\n",
    "        # wrong\n",
    "        # return self._data[name] -》产生无限递归\n",
    "\n",
    "t = test({'a': '1'})\n",
    "print(t.a)"
   ]
  },
  {
   "cell_type": "markdown",
   "metadata": {},
   "source": [
    "### staticmethod() 返回函数的静态方法"
   ]
  },
  {
   "cell_type": "code",
   "execution_count": 4,
   "metadata": {},
   "outputs": [
    {
     "ename": "ValueError",
     "evalue": "data must be [0,1]",
     "output_type": "error",
     "traceback": [
      "\u001b[0;31m---------------------------------------------------------------------------\u001b[0m",
      "\u001b[0;31mValueError\u001b[0m                                Traceback (most recent call last)",
      "\u001b[0;32m/tmp/ipykernel_1064269/320951630.py\u001b[0m in \u001b[0;36m<module>\u001b[0;34m\u001b[0m\n\u001b[1;32m     11\u001b[0m \u001b[0;34m\u001b[0m\u001b[0m\n\u001b[1;32m     12\u001b[0m \u001b[0mtest\u001b[0m\u001b[0;34m.\u001b[0m\u001b[0mcheck\u001b[0m\u001b[0;34m(\u001b[0m\u001b[0;36m1\u001b[0m\u001b[0;34m)\u001b[0m\u001b[0;34m\u001b[0m\u001b[0;34m\u001b[0m\u001b[0m\n\u001b[0;32m---> 13\u001b[0;31m \u001b[0mtest\u001b[0m\u001b[0;34m.\u001b[0m\u001b[0mcheck\u001b[0m\u001b[0;34m(\u001b[0m\u001b[0;36m2\u001b[0m\u001b[0;34m)\u001b[0m\u001b[0;34m\u001b[0m\u001b[0;34m\u001b[0m\u001b[0m\n\u001b[0m",
      "\u001b[0;32m/tmp/ipykernel_1064269/320951630.py\u001b[0m in \u001b[0;36mcheck\u001b[0;34m(data)\u001b[0m\n\u001b[1;32m      8\u001b[0m     \u001b[0;32mdef\u001b[0m \u001b[0mcheck\u001b[0m\u001b[0;34m(\u001b[0m\u001b[0mdata\u001b[0m\u001b[0;34m)\u001b[0m\u001b[0;34m:\u001b[0m\u001b[0;34m\u001b[0m\u001b[0;34m\u001b[0m\u001b[0m\n\u001b[1;32m      9\u001b[0m         \u001b[0;32mif\u001b[0m \u001b[0;32mnot\u001b[0m \u001b[0;34m(\u001b[0m\u001b[0;36m0\u001b[0m \u001b[0;34m<=\u001b[0m \u001b[0mdata\u001b[0m \u001b[0;34m<=\u001b[0m \u001b[0;36m1\u001b[0m\u001b[0;34m)\u001b[0m\u001b[0;34m:\u001b[0m\u001b[0;34m\u001b[0m\u001b[0;34m\u001b[0m\u001b[0m\n\u001b[0;32m---> 10\u001b[0;31m             \u001b[0;32mraise\u001b[0m \u001b[0mValueError\u001b[0m\u001b[0;34m(\u001b[0m\u001b[0;34m'data must be [0,1]'\u001b[0m\u001b[0;34m)\u001b[0m\u001b[0;34m\u001b[0m\u001b[0;34m\u001b[0m\u001b[0m\n\u001b[0m\u001b[1;32m     11\u001b[0m \u001b[0;34m\u001b[0m\u001b[0m\n\u001b[1;32m     12\u001b[0m \u001b[0mtest\u001b[0m\u001b[0;34m.\u001b[0m\u001b[0mcheck\u001b[0m\u001b[0;34m(\u001b[0m\u001b[0;36m1\u001b[0m\u001b[0;34m)\u001b[0m\u001b[0;34m\u001b[0m\u001b[0;34m\u001b[0m\u001b[0m\n",
      "\u001b[0;31mValueError\u001b[0m: data must be [0,1]"
     ]
    }
   ],
   "source": [
    "### staticmethod 方法不强制要求传递参数,不需要实例化\n",
    "class test:\n",
    "\n",
    "    def __init__(self):\n",
    "        pass\n",
    "\n",
    "    @staticmethod\n",
    "    def check(data):\n",
    "        if not (0 <= data <= 1):\n",
    "            raise ValueError('data must be [0,1]')\n",
    "\n",
    "test.check(1) # 无需实例化类，也可以实例化后使用\n",
    "test.check(2)"
   ]
  },
  {
   "cell_type": "markdown",
   "metadata": {},
   "source": [
    "### @property，@func.setter 取代get和set方法"
   ]
  },
  {
   "cell_type": "code",
   "execution_count": 5,
   "metadata": {},
   "outputs": [
    {
     "name": "stdout",
     "output_type": "stream",
     "text": [
      "a: 1\n",
      "_reverse_a: -1\n"
     ]
    },
    {
     "ename": "ValueError",
     "evalue": "-1 a must be >= 0",
     "output_type": "error",
     "traceback": [
      "\u001b[0;31m---------------------------------------------------------------------------\u001b[0m",
      "\u001b[0;31mValueError\u001b[0m                                Traceback (most recent call last)",
      "\u001b[0;32m/tmp/ipykernel_1064269/558627377.py\u001b[0m in \u001b[0;36m<module>\u001b[0;34m\u001b[0m\n\u001b[1;32m     24\u001b[0m \u001b[0mprint\u001b[0m\u001b[0;34m(\u001b[0m\u001b[0;34mf'a: {t.a}'\u001b[0m\u001b[0;34m)\u001b[0m\u001b[0;34m\u001b[0m\u001b[0;34m\u001b[0m\u001b[0m\n\u001b[1;32m     25\u001b[0m \u001b[0mprint\u001b[0m\u001b[0;34m(\u001b[0m\u001b[0;34mf'_reverse_a: {t._reverse_a}'\u001b[0m\u001b[0;34m)\u001b[0m\u001b[0;34m\u001b[0m\u001b[0;34m\u001b[0m\u001b[0m\n\u001b[0;32m---> 26\u001b[0;31m \u001b[0mt\u001b[0m\u001b[0;34m.\u001b[0m\u001b[0ma\u001b[0m \u001b[0;34m=\u001b[0m \u001b[0;34m-\u001b[0m\u001b[0;36m1\u001b[0m \u001b[0;31m# a must be >= 0\u001b[0m\u001b[0;34m\u001b[0m\u001b[0;34m\u001b[0m\u001b[0m\n\u001b[0m",
      "\u001b[0;32m/tmp/ipykernel_1064269/558627377.py\u001b[0m in \u001b[0;36ma\u001b[0;34m(self, value)\u001b[0m\n\u001b[1;32m     16\u001b[0m     \u001b[0;32mdef\u001b[0m \u001b[0ma\u001b[0m\u001b[0;34m(\u001b[0m\u001b[0mself\u001b[0m\u001b[0;34m,\u001b[0m \u001b[0mvalue\u001b[0m\u001b[0;34m)\u001b[0m\u001b[0;34m:\u001b[0m\u001b[0;34m\u001b[0m\u001b[0;34m\u001b[0m\u001b[0m\n\u001b[1;32m     17\u001b[0m         \u001b[0;32mif\u001b[0m \u001b[0mvalue\u001b[0m \u001b[0;34m<\u001b[0m \u001b[0;36m0\u001b[0m\u001b[0;34m:\u001b[0m\u001b[0;34m\u001b[0m\u001b[0;34m\u001b[0m\u001b[0m\n\u001b[0;32m---> 18\u001b[0;31m             \u001b[0;32mraise\u001b[0m \u001b[0mValueError\u001b[0m\u001b[0;34m(\u001b[0m\u001b[0;34mf'{value} a must be >= 0'\u001b[0m\u001b[0;34m)\u001b[0m\u001b[0;34m\u001b[0m\u001b[0;34m\u001b[0m\u001b[0m\n\u001b[0m\u001b[1;32m     19\u001b[0m         \u001b[0mself\u001b[0m\u001b[0;34m.\u001b[0m\u001b[0m_a\u001b[0m \u001b[0;34m=\u001b[0m \u001b[0mvalue\u001b[0m\u001b[0;34m\u001b[0m\u001b[0;34m\u001b[0m\u001b[0m\n\u001b[1;32m     20\u001b[0m         \u001b[0mself\u001b[0m\u001b[0;34m.\u001b[0m\u001b[0m_reverse_a\u001b[0m \u001b[0;34m=\u001b[0m \u001b[0;34m-\u001b[0m\u001b[0mself\u001b[0m\u001b[0;34m.\u001b[0m\u001b[0m_a\u001b[0m \u001b[0;31m# 设置了a则附带设置其他值\u001b[0m\u001b[0;34m\u001b[0m\u001b[0;34m\u001b[0m\u001b[0m\n",
      "\u001b[0;31mValueError\u001b[0m: -1 a must be >= 0"
     ]
    }
   ],
   "source": [
    "# 编写新类时，应该用简单的public属性来定义其接口，而不要手工实现set和get\n",
    "# 如果访问对象的某个属性时，需要表现出特殊的行为，那就用@property来定义这种行为\n",
    "# 例如：防止设置对象的属性小于0\n",
    "\n",
    "class test:\n",
    "\n",
    "    def __init__(self):\n",
    "        self._a = 0\n",
    "        self._reverse_a = 0\n",
    "\n",
    "    @property\n",
    "    def a(self):\n",
    "        return self._a\n",
    "\n",
    "    @a.setter\n",
    "    def a(self, value):\n",
    "        if value < 0:\n",
    "            raise ValueError(f'{value} a must be >= 0')\n",
    "        self._a = value\n",
    "        self._reverse_a = -self._a # 设置了a则附带设置其他值\n",
    "\n",
    "t = test()\n",
    "t.a = 1\n",
    "print(f'a: {t.a}')\n",
    "print(f'_reverse_a: {t._reverse_a}')\n",
    "t.a = -1 # a must be >= 0"
   ]
  },
  {
   "cell_type": "code",
   "execution_count": 13,
   "metadata": {},
   "outputs": [
    {
     "name": "stdout",
     "output_type": "stream",
     "text": [
      "1\n",
      "-1\n",
      "2\n",
      "1\n"
     ]
    }
   ],
   "source": [
    "class test1(test):\n",
    "\n",
    "    def __init__(self):\n",
    "        super().__init__()\n",
    "\n",
    "t1 = test1()\n",
    "t1.a = 1\n",
    "print(t1.a)\n",
    "print(t1._reverse_a)\n",
    "t2 = test1()\n",
    "t2.a = 2\n",
    "print(t2.a)\n",
    "print(t1.a)"
   ]
  },
  {
   "cell_type": "markdown",
   "metadata": {},
   "source": [
    "### 使用collections.abc，从模块中的抽象基类中继承，编写自制的容器类型"
   ]
  },
  {
   "cell_type": "code",
   "execution_count": 25,
   "metadata": {},
   "outputs": [
    {
     "name": "stdout",
     "output_type": "stream",
     "text": [
      "1\n",
      "2\n"
     ]
    }
   ],
   "source": [
    "from collections.abc import Sequence\n",
    "\n",
    "class MySequence(Sequence):\n",
    "\n",
    "    def __init__(self, data):\n",
    "        super().__init__()\n",
    "        self.data = data\n",
    "\n",
    "    def __getitem__(self, idx):\n",
    "        return self.data[idx]\n",
    "\n",
    "    def __len__(self):\n",
    "        return len(self.data)\n",
    "\n",
    "m = MySequence([1,2])\n",
    "print(m[0])\n",
    "print(len(m))"
   ]
  },
  {
   "cell_type": "markdown",
   "metadata": {},
   "source": [
    "### dict.setdefault(key, value) 当key空时幅值value"
   ]
  },
  {
   "cell_type": "code",
   "execution_count": 17,
   "metadata": {},
   "outputs": [
    {
     "name": "stdout",
     "output_type": "stream",
     "text": [
      "{'a': 1}\n"
     ]
    }
   ],
   "source": [
    "dict_ = {}\n",
    "dict_.setdefault('a', 1)\n",
    "dict_.setdefault('a', 0) # 已经有值，则不会再幅默认值\n",
    "print(dict_)"
   ]
  },
  {
   "cell_type": "markdown",
   "metadata": {},
   "source": [
    "### public，protected、private"
   ]
  },
  {
   "cell_type": "code",
   "execution_count": 14,
   "metadata": {},
   "outputs": [
    {
     "name": "stdout",
     "output_type": "stream",
     "text": [
      "public\n",
      "protected\n",
      "private\n"
     ]
    },
    {
     "ename": "AttributeError",
     "evalue": "'test' object has no attribute '__private_method'",
     "output_type": "error",
     "traceback": [
      "\u001b[0;31m---------------------------------------------------------------------------\u001b[0m",
      "\u001b[0;31mAttributeError\u001b[0m                            Traceback (most recent call last)",
      "\u001b[0;32m/tmp/ipykernel_1062121/2283989756.py\u001b[0m in \u001b[0;36m<module>\u001b[0;34m\u001b[0m\n\u001b[1;32m     25\u001b[0m \u001b[0;34m\u001b[0m\u001b[0m\n\u001b[1;32m     26\u001b[0m \u001b[0mt\u001b[0m\u001b[0;34m.\u001b[0m\u001b[0m_test__private_method\u001b[0m\u001b[0;34m(\u001b[0m\u001b[0;34m)\u001b[0m\u001b[0;34m\u001b[0m\u001b[0;34m\u001b[0m\u001b[0m\n\u001b[0;32m---> 27\u001b[0;31m \u001b[0mt\u001b[0m\u001b[0;34m.\u001b[0m\u001b[0m__private_method\u001b[0m\u001b[0;34m(\u001b[0m\u001b[0;34m)\u001b[0m\u001b[0;34m\u001b[0m\u001b[0;34m\u001b[0m\u001b[0m\n\u001b[0m",
      "\u001b[0;31mAttributeError\u001b[0m: 'test' object has no attribute '__private_method'"
     ]
    }
   ],
   "source": [
    "# protected：本质上与 public 属性使用相同，但命名上体现了保护目的\n",
    "# 可多用protected属性，并在文档中把这些字段的合理用法告诉子类的开发者\n",
    "# 只有当子类不受自己控制时，才可以考虑用private属性来避免名称冲突\n",
    "\n",
    "class test:\n",
    "\n",
    "    def __init__(self):\n",
    "        pass\n",
    "\n",
    "    def public_method(self):\n",
    "        print('public')\n",
    "        self.public_value = 'public'\n",
    "\n",
    "    def _protected_method(self):\n",
    "        print('protected')\n",
    "        self._protected_value = 'protected'\n",
    "\n",
    "    def __private_method(self):\n",
    "        print('private')\n",
    "        self.__private_value = 'private'\n",
    "\n",
    "t = test()\n",
    "t.public_method()\n",
    "t._protected_method()\n",
    "\n",
    "t._test__private_method() # private本质只是换了一个名称保存\n",
    "t.__private_method() # 直接访问无法获得"
   ]
  },
  {
   "cell_type": "code",
   "execution_count": 16,
   "metadata": {},
   "outputs": [
    {
     "name": "stdout",
     "output_type": "stream",
     "text": [
      "public\n",
      "protected\n",
      "private\n"
     ]
    },
    {
     "ename": "AttributeError",
     "evalue": "'test' object has no attribute '__private_value'",
     "output_type": "error",
     "traceback": [
      "\u001b[0;31m---------------------------------------------------------------------------\u001b[0m",
      "\u001b[0;31mAttributeError\u001b[0m                            Traceback (most recent call last)",
      "\u001b[0;32m/tmp/ipykernel_1062121/2808619612.py\u001b[0m in \u001b[0;36m<module>\u001b[0;34m\u001b[0m\n\u001b[1;32m      2\u001b[0m \u001b[0mprint\u001b[0m\u001b[0;34m(\u001b[0m\u001b[0mt\u001b[0m\u001b[0;34m.\u001b[0m\u001b[0m_protected_value\u001b[0m\u001b[0;34m)\u001b[0m\u001b[0;34m\u001b[0m\u001b[0;34m\u001b[0m\u001b[0m\n\u001b[1;32m      3\u001b[0m \u001b[0mprint\u001b[0m\u001b[0;34m(\u001b[0m\u001b[0mt\u001b[0m\u001b[0;34m.\u001b[0m\u001b[0m_test__private_value\u001b[0m\u001b[0;34m)\u001b[0m\u001b[0;34m\u001b[0m\u001b[0;34m\u001b[0m\u001b[0m\n\u001b[0;32m----> 4\u001b[0;31m \u001b[0mprint\u001b[0m\u001b[0;34m(\u001b[0m\u001b[0mt\u001b[0m\u001b[0;34m.\u001b[0m\u001b[0m__private_value\u001b[0m\u001b[0;34m)\u001b[0m\u001b[0;34m\u001b[0m\u001b[0;34m\u001b[0m\u001b[0m\n\u001b[0m",
      "\u001b[0;31mAttributeError\u001b[0m: 'test' object has no attribute '__private_value'"
     ]
    }
   ],
   "source": [
    "print(t.public_value)\n",
    "print(t._protected_value)\n",
    "print(t._test__private_value)\n",
    "print(t.__private_value)"
   ]
  },
  {
   "cell_type": "markdown",
   "metadata": {},
   "source": [
    "### 用super初始化父类，避免钻石继承问题"
   ]
  },
  {
   "cell_type": "code",
   "execution_count": 10,
   "metadata": {},
   "outputs": [
    {
     "name": "stdout",
     "output_type": "stream",
     "text": [
      "A: 5\n",
      "A1: 25\n",
      "A2: 27\n"
     ]
    },
    {
     "data": {
      "text/plain": [
       "27"
      ]
     },
     "execution_count": 10,
     "metadata": {},
     "output_type": "execute_result"
    }
   ],
   "source": [
    "# 用内置的super函数来初始化父类，避免钻石继承问题\n",
    "# 注意继承顺序(与实际执行相反的顺序)\n",
    "class A:\n",
    "    def __init__(self, value):\n",
    "        self.value = value\n",
    "        print('A:', self.value)\n",
    "\n",
    "class A1(A):\n",
    "    def __init__(self, value):\n",
    "        super().__init__(value)\n",
    "        self.value *= 5\n",
    "        print('A1:', self.value)\n",
    "\n",
    "class A2(A):\n",
    "    def __init__(self, value):\n",
    "        super().__init__(value)\n",
    "        self.value += 2\n",
    "        print('A2:', self.value)\n",
    "\n",
    "\n",
    "class B(A2, A1): # 顺序与实际调用顺序相反：深度优先-》A,A1,A2\n",
    "    def __init__(self, value):\n",
    "        super().__init__(value)\n",
    "\n",
    "b = B(5)\n",
    "b.value"
   ]
  },
  {
   "cell_type": "markdown",
   "metadata": {},
   "source": [
    "### 以 @classmethod 形式的多态去通用地构建对象 "
   ]
  },
  {
   "cell_type": "code",
   "execution_count": 5,
   "metadata": {},
   "outputs": [
    {
     "name": "stdout",
     "output_type": "stream",
     "text": [
      "tensor([[ 0.0279],\n",
      "        [-1.7643],\n",
      "        [ 0.0514]])\n",
      "tensor([[0.0279],\n",
      "        [0.0000],\n",
      "        [0.0514]])\n"
     ]
    }
   ],
   "source": [
    "# 多态：使得继承体系中的多个类都能以各自所独有的方式来实现某个方法。这些类，都满足相同的接口或继承自相同的抽象类，但却有着各自不同的功能\n",
    "# classmethod 修饰符对应的函数不需要实例化，不需要 self 参数，但第一个参数需要是表示自身类的 cls 参数，可以来调用类的属性，类的方法，实例化对象等\n",
    "\n",
    "class test:\n",
    "\n",
    "    def __init__(self, normalization_data):\n",
    "        self.normalization_data = normalization_data\n",
    "\n",
    "    @classmethod # 把输入的预操作（具体实现）放在此处，增加通用性\n",
    "    def normalization(cls, data):\n",
    "        return cls(data.clamp(0, 1))\n",
    "\n",
    "import torch\n",
    "a = torch.randn(size=(3,1))\n",
    "print(a)\n",
    "t = test.normalization(a)\n",
    "print(t.normalization_data)"
   ]
  },
  {
   "cell_type": "markdown",
   "metadata": {},
   "source": [
    "### collections模块中的namedtuple，定义精简而不可变的数据类"
   ]
  },
  {
   "cell_type": "code",
   "execution_count": 54,
   "metadata": {},
   "outputs": [
    {
     "name": "stdout",
     "output_type": "stream",
     "text": [
      "Grade(score=90, weight=0.3)\n"
     ]
    }
   ],
   "source": [
    "# 既可以按位置指定其中各项，也可以采用关键字来指定\n",
    "# 缺点：无法指定各参数的默认值\n",
    "import collections\n",
    "Grade = collections.namedtuple('Grade', ('score', 'weight'))\n",
    "print(Grade(90, 0.3))"
   ]
  },
  {
   "cell_type": "markdown",
   "metadata": {},
   "source": [
    "### 在函数参数部分加上*，要求只能以关键字形式指定参数"
   ]
  },
  {
   "cell_type": "code",
   "execution_count": 53,
   "metadata": {},
   "outputs": [
    {
     "name": "stdout",
     "output_type": "stream",
     "text": [
      "1 1\n",
      "1 2\n"
     ]
    },
    {
     "ename": "TypeError",
     "evalue": "test() takes 1 positional argument but 2 were given",
     "output_type": "error",
     "traceback": [
      "\u001b[0;31m---------------------------------------------------------------------------\u001b[0m",
      "\u001b[0;31mTypeError\u001b[0m                                 Traceback (most recent call last)",
      "\u001b[0;32m/tmp/ipykernel_1056934/1611578551.py\u001b[0m in \u001b[0;36m<module>\u001b[0;34m\u001b[0m\n\u001b[1;32m      4\u001b[0m \u001b[0mtest\u001b[0m\u001b[0;34m(\u001b[0m\u001b[0;36m1\u001b[0m\u001b[0;34m)\u001b[0m\u001b[0;34m\u001b[0m\u001b[0;34m\u001b[0m\u001b[0m\n\u001b[1;32m      5\u001b[0m \u001b[0mtest\u001b[0m\u001b[0;34m(\u001b[0m\u001b[0;36m1\u001b[0m\u001b[0;34m,\u001b[0m \u001b[0mb\u001b[0m\u001b[0;34m=\u001b[0m\u001b[0;36m2\u001b[0m\u001b[0;34m)\u001b[0m\u001b[0;34m\u001b[0m\u001b[0;34m\u001b[0m\u001b[0m\n\u001b[0;32m----> 6\u001b[0;31m \u001b[0mtest\u001b[0m\u001b[0;34m(\u001b[0m\u001b[0;36m1\u001b[0m\u001b[0;34m,\u001b[0m \u001b[0;36m2\u001b[0m\u001b[0;34m)\u001b[0m\u001b[0;34m\u001b[0m\u001b[0;34m\u001b[0m\u001b[0m\n\u001b[0m",
      "\u001b[0;31mTypeError\u001b[0m: test() takes 1 positional argument but 2 were given"
     ]
    }
   ],
   "source": [
    "def test(a, *, b=1):\n",
    "    print(a, b)\n",
    "\n",
    "test(1)\n",
    "test(1, b=2)\n",
    "test(1, 2) # 必须以关键字形式指定参数"
   ]
  },
  {
   "cell_type": "markdown",
   "metadata": {},
   "source": [
    "### 用None来做动态默认值"
   ]
  },
  {
   "cell_type": "code",
   "execution_count": 47,
   "metadata": {},
   "outputs": [
    {
     "name": "stdout",
     "output_type": "stream",
     "text": [
      "2022-05-18 17:41:27.968258\n",
      "2022-05-18 17:41:27.968258\n",
      "foo: {'stuff': 5, 'meep': 1}\n",
      "var: {'stuff': 5, 'meep': 1}\n"
     ]
    }
   ],
   "source": [
    "# 如果参数实际默认值是可变类型（mutable），记得用None作为形式上的默认值\n",
    "# 错误代码：用{}作为默认参数值\n",
    "import json\n",
    "from datetime import datetime\n",
    "def decode(data, default={}, time=datetime.now()):\n",
    "    print(time)\n",
    "    try:\n",
    "        return json.load(data)\n",
    "    except AttributeError:\n",
    "        return default\n",
    "\n",
    "foo = decode('bad data')\n",
    "foo['stuff'] = 5\n",
    "bar = decode('also bad')\n",
    "bar['meep'] = 1\n",
    "print('foo:', foo)\n",
    "print('var:', bar) # 同一个对象，在函数建立的时候就建立"
   ]
  },
  {
   "cell_type": "code",
   "execution_count": 48,
   "metadata": {},
   "outputs": [
    {
     "name": "stdout",
     "output_type": "stream",
     "text": [
      "2022-05-18 17:42:20.413731\n",
      "2022-05-18 17:42:20.414040\n",
      "foo: {'stuff': 5}\n",
      "var: {'meep': 1}\n"
     ]
    }
   ],
   "source": [
    "# 使用None为参数默认值\n",
    "def decode(data, default=None, time=None):\n",
    "    time = datetime.now()\n",
    "    default = {}\n",
    "    print(time)\n",
    "    try:\n",
    "        return json.load(data)\n",
    "    except AttributeError:\n",
    "        return default\n",
    "\n",
    "foo = decode('bad data')\n",
    "foo['stuff'] = 5\n",
    "bar = decode('also bad')\n",
    "bar['meep'] = 1\n",
    "print('foo:', foo)\n",
    "print('var:', bar) "
   ]
  },
  {
   "cell_type": "markdown",
   "metadata": {},
   "source": [
    "### 函数接受可选的位置参数：*args"
   ]
  },
  {
   "cell_type": "code",
   "execution_count": 42,
   "metadata": {},
   "outputs": [
    {
     "name": "stdout",
     "output_type": "stream",
     "text": [
      "it is 1\n",
      "it is\n",
      "it is [1, 2]\n",
      "it is 1, 2\n"
     ]
    }
   ],
   "source": [
    "# 函数参数添加*args, 会自动有默认值，会将输入组成元组（有位置顺序，所以叫位置参数）\n",
    "# 要扩展*args位置参数，就必须修改旧代码，可以用关键字形式指定的参数\n",
    "def test(a, *args):\n",
    "    if not args:\n",
    "        print(a)\n",
    "    else:\n",
    "        str_ = ', '.join(str(x) for x in args)\n",
    "        print(a, str_)\n",
    "\n",
    "test('it is', 1)\n",
    "test('it is')\n",
    "\n",
    "test('it is', [1,2])\n",
    "test('it is', *[1,2]) # *输入列表，会被作为位置参数输入"
   ]
  },
  {
   "cell_type": "code",
   "execution_count": null,
   "metadata": {},
   "outputs": [],
   "source": []
  },
  {
   "cell_type": "markdown",
   "metadata": {},
   "source": [
    "### 迭代器iter，生成器"
   ]
  },
  {
   "cell_type": "code",
   "execution_count": 24,
   "metadata": {},
   "outputs": [
    {
     "name": "stdout",
     "output_type": "stream",
     "text": [
      "iter: <list_iterator object at 0x7fbc72248280>\n",
      "1\n",
      "1\n"
     ]
    }
   ],
   "source": [
    "# iter 会返回迭代器对象，迭代器对象中实现了__next__方法，可用next函数来取值\n",
    "# for x in a: 会调用iter(a)\n",
    "a = [1,2,3,4,5,6,7,8]\n",
    "print(f'iter: {iter(a)}')\n",
    "print(iter(a).__next__())\n",
    "print(next(iter(a)))"
   ]
  },
  {
   "cell_type": "code",
   "execution_count": 36,
   "metadata": {},
   "outputs": [
    {
     "name": "stdout",
     "output_type": "stream",
     "text": [
      "[1, 2, 3, 4, 5, 6, 7, 8]\n",
      "[]\n",
      "\n",
      "[1, 2, 3, 4, 5, 6, 7, 8]\n",
      "[1, 2, 3, 4, 5, 6, 7, 8]\n"
     ]
    }
   ],
   "source": [
    "# 迭代器协议约定 iter：\n",
    "# 以确保调用者传进来的参数，并不是迭代器对象本身\n",
    "# 如果迭代器对象传给内置的iter函数，那么此函数会把迭代器返回\n",
    "# 反之，如果是个容器类型的对象，那么每次都会返回新的迭代器对象\n",
    "a = [1,2,3,4,5,6,7,8]\n",
    "it1 = iter(a)\n",
    "it2 = iter(it1)\n",
    "assert it1 is it2\n",
    "print(list(it1))\n",
    "print(list(it2)) # it1与it2同一个对象，it1在之前的list中已释放完\n",
    "\n",
    "it1 = iter(a)\n",
    "it3 = iter(a)\n",
    "try:\n",
    "    assert it1 is it3\n",
    "except AssertionError as e:\n",
    "    print(e)\n",
    "\n",
    "print(list(it1))\n",
    "print(list(it3)) # it1与it3不是同一个迭代器对象，但值相同"
   ]
  },
  {
   "cell_type": "markdown",
   "metadata": {},
   "source": [
    "### 生成器 generator，next"
   ]
  },
  {
   "cell_type": "code",
   "execution_count": 19,
   "metadata": {},
   "outputs": [
    {
     "name": "stdout",
     "output_type": "stream",
     "text": [
      "it: <generator object generator at 0x7fbc72234d60>, type: <class 'generator'>\n",
      "next: 1\n",
      "next: 2\n",
      "it: <generator object generator at 0x7fbd5b91bd60>, type: <class 'generator'>\n",
      "next: inf\n",
      "next: 1\n",
      "b: [2, 3, 4, 5, 6, 7, 8]\n",
      "c: []\n"
     ]
    }
   ],
   "source": [
    "# 生成器generator使用yield表达式的函数，不会真的运行，而是返回迭代器\n",
    "# 每次在迭代器上面的调用next，迭代器会把生成器推进到下一个yield表达式\n",
    "# 并把yield表达式的结果返回\n",
    "\n",
    "a = [1,2,3,4,5,6,7,8]\n",
    "\n",
    "def generator(data):\n",
    "    for x in data:\n",
    "        yield x\n",
    "\n",
    "it = generator(a)\n",
    "print(f'it: {it}, type: {type(it)}')\n",
    "print(f'next: {next(it)}')\n",
    "print(f'next: {next(it)}')\n",
    "\n",
    "def generator(data):\n",
    "\n",
    "    if data[0] == 1:\n",
    "        yield float('inf')\n",
    "\n",
    "    for x in data:\n",
    "        yield x\n",
    "it = generator(a)\n",
    "print(f'it: {it}, type: {type(it)}')\n",
    "print(f'next: {next(it)}')\n",
    "print(f'next: {next(it)}')\n",
    "\n",
    "# 迭代器只能使用一次\n",
    "b = list(it)\n",
    "print(f'b: {b}')\n",
    "c = list(it)\n",
    "print(f'c: {c}')"
   ]
  },
  {
   "cell_type": "code",
   "execution_count": 16,
   "metadata": {},
   "outputs": [
    {
     "name": "stdout",
     "output_type": "stream",
     "text": [
      "mnist: Dataset MNIST\n",
      "    Number of datapoints: 60000\n",
      "    Root location: /data/lzh/data/datasets/mnist\n",
      "    Split: Train, type: <class 'torchvision.datasets.mnist.MNIST'>\n",
      "['__add__', '__annotations__', '__class__', '__class_getitem__', '__delattr__', '__dict__', '__dir__', '__doc__', '__eq__', '__format__', '__ge__', '__getattr__', '__getattribute__', '__getitem__', '__gt__', '__hash__', '__init__', '__init_subclass__', '__le__', '__len__', '__lt__', '__module__', '__ne__', '__new__', '__orig_bases__', '__parameters__', '__reduce__', '__reduce_ex__', '__repr__', '__setattr__', '__sizeof__', '__slots__', '__str__', '__subclasshook__', '__weakref__', '_check_exists', '_check_legacy_exist', '_format_transform_repr', '_is_protocol', '_load_data', '_load_legacy_data', '_repr_indent', 'class_to_idx', 'classes', 'data', 'download', 'extra_repr', 'functions', 'mirrors', 'processed_folder', 'raw_folder', 'register_datapipe_as_function', 'register_function', 'resources', 'root', 'target_transform', 'targets', 'test_data', 'test_file', 'test_labels', 'train', 'train_data', 'train_labels', 'training_file', 'transform', 'transforms']\n",
      "torch.Size([1, 28, 28]) 5\n"
     ]
    }
   ],
   "source": [
    "import torch\n",
    "import torchvision\n",
    "import torchvision.transforms as transforms\n",
    "\n",
    "mnist = torchvision.datasets.MNIST(r'/data/lzh/data/datasets/mnist')\n",
    "print(f'mnist: {mnist}, type: {type(mnist)}')\n",
    "print(dir(mnist)) # 获得全部成员\n",
    "\n",
    "def load(data):\n",
    "    for x, y in mnist:\n",
    "        x = transforms.ToTensor()(x)\n",
    "        yield x, y\n",
    "\n",
    "loader = load(mnist)\n",
    "x, y = next(loader)\n",
    "print(x.shape, y)"
   ]
  },
  {
   "cell_type": "markdown",
   "metadata": {},
   "source": [
    "### 闭包，nonlocal，global"
   ]
  },
  {
   "cell_type": "code",
   "execution_count": 5,
   "metadata": {},
   "outputs": [
    {
     "name": "stdout",
     "output_type": "stream",
     "text": [
      "2\n",
      "1\n"
     ]
    }
   ],
   "source": [
    "# 作用域bug：防止函数中的局部变量污染函数外面的那个模块\n",
    "\n",
    "def test():\n",
    "    ex_a = 1\n",
    "    def closure():\n",
    "        ex_a = 2 # 此处会创建一个新的变量\n",
    "        print(ex_a)\n",
    "    closure()\n",
    "    print(ex_a)\n",
    "\n",
    "test()"
   ]
  },
  {
   "cell_type": "code",
   "execution_count": 3,
   "metadata": {},
   "outputs": [
    {
     "name": "stdout",
     "output_type": "stream",
     "text": [
      "94184960949728\n"
     ]
    },
    {
     "ename": "UnboundLocalError",
     "evalue": "local variable 'a' referenced before assignment",
     "output_type": "error",
     "traceback": [
      "\u001b[0;31m---------------------------------------------------------------------------\u001b[0m",
      "\u001b[0;31mUnboundLocalError\u001b[0m                         Traceback (most recent call last)",
      "\u001b[0;32m/tmp/ipykernel_1071619/3509893449.py\u001b[0m in \u001b[0;36m<module>\u001b[0;34m\u001b[0m\n\u001b[1;32m     15\u001b[0m \u001b[0;34m\u001b[0m\u001b[0m\n\u001b[1;32m     16\u001b[0m \u001b[0mclosure\u001b[0m \u001b[0;34m=\u001b[0m \u001b[0mtest\u001b[0m\u001b[0;34m(\u001b[0m\u001b[0ma\u001b[0m\u001b[0;34m=\u001b[0m\u001b[0;36m1\u001b[0m\u001b[0;34m)\u001b[0m\u001b[0;34m\u001b[0m\u001b[0;34m\u001b[0m\u001b[0m\n\u001b[0;32m---> 17\u001b[0;31m \u001b[0mclosure\u001b[0m\u001b[0;34m(\u001b[0m\u001b[0;34m)\u001b[0m\u001b[0;34m\u001b[0m\u001b[0;34m\u001b[0m\u001b[0m\n\u001b[0m",
      "\u001b[0;32m/tmp/ipykernel_1071619/3509893449.py\u001b[0m in \u001b[0;36mclosure\u001b[0;34m()\u001b[0m\n\u001b[1;32m      3\u001b[0m     \u001b[0mprint\u001b[0m\u001b[0;34m(\u001b[0m\u001b[0mid\u001b[0m\u001b[0;34m(\u001b[0m\u001b[0ma\u001b[0m\u001b[0;34m)\u001b[0m\u001b[0;34m)\u001b[0m\u001b[0;34m\u001b[0m\u001b[0;34m\u001b[0m\u001b[0m\n\u001b[1;32m      4\u001b[0m     \u001b[0;32mdef\u001b[0m \u001b[0mclosure\u001b[0m\u001b[0;34m(\u001b[0m\u001b[0;34m)\u001b[0m\u001b[0;34m:\u001b[0m\u001b[0;34m\u001b[0m\u001b[0;34m\u001b[0m\u001b[0m\n\u001b[0;32m----> 5\u001b[0;31m         \u001b[0ma\u001b[0m \u001b[0;34m+=\u001b[0m \u001b[0;36m1\u001b[0m \u001b[0;31m# 不能修改\u001b[0m\u001b[0;34m\u001b[0m\u001b[0;34m\u001b[0m\u001b[0m\n\u001b[0m\u001b[1;32m      6\u001b[0m         \u001b[0mprint\u001b[0m\u001b[0;34m(\u001b[0m\u001b[0mid\u001b[0m\u001b[0;34m(\u001b[0m\u001b[0ma\u001b[0m\u001b[0;34m)\u001b[0m\u001b[0;34m)\u001b[0m\u001b[0;34m\u001b[0m\u001b[0;34m\u001b[0m\u001b[0m\n\u001b[1;32m      7\u001b[0m         \u001b[0mb\u001b[0m \u001b[0;34m=\u001b[0m \u001b[0ma\u001b[0m\u001b[0;34m\u001b[0m\u001b[0;34m\u001b[0m\u001b[0m\n",
      "\u001b[0;31mUnboundLocalError\u001b[0m: local variable 'a' referenced before assignment"
     ]
    }
   ],
   "source": [
    "def test(a):\n",
    "    \n",
    "    print(id(a))\n",
    "    def closure():\n",
    "        a += 1 # 不能修改\n",
    "        print(id(a))\n",
    "        b = a\n",
    "        assert b is a\n",
    "        print(id(b))\n",
    "        b += 1\n",
    "        print(b)\n",
    "        return a\n",
    "    \n",
    "    return closure\n",
    "\n",
    "closure = test(a=1)\n",
    "closure()\n"
   ]
  },
  {
   "cell_type": "code",
   "execution_count": 6,
   "metadata": {},
   "outputs": [
    {
     "name": "stdout",
     "output_type": "stream",
     "text": [
      "2\n",
      "2\n"
     ]
    }
   ],
   "source": [
    "# 用 nonlocal 能够获得闭包内的数据，从上层作用域中查找变量\n",
    "# nonlocal的限制：不能延伸到模块级别，防止污染全局作用域\n",
    "# 最好仅在简单的函数中使用\n",
    "def test():\n",
    "    ex_a = 1\n",
    "    def closure():\n",
    "        nonlocal ex_a\n",
    "        ex_a = 2 # 会修改闭包外的变量\n",
    "        print(ex_a)\n",
    "    closure()\n",
    "    print(ex_a)\n",
    "\n",
    "test()"
   ]
  },
  {
   "cell_type": "code",
   "execution_count": 17,
   "metadata": {},
   "outputs": [
    {
     "name": "stdout",
     "output_type": "stream",
     "text": [
      "5\n",
      "5\n"
     ]
    }
   ],
   "source": [
    "# global 将会直接修改模块作用域里的那个变量\n",
    "ex_a = 2\n",
    "\n",
    "def test():\n",
    "    global ex_a\n",
    "    ex_a += 3\n",
    "    print(ex_a)\n",
    "test()\n",
    "print(ex_a)"
   ]
  },
  {
   "cell_type": "markdown",
   "metadata": {},
   "source": [
    "### 合理利用try/except/else/finally结构中的每个代码块"
   ]
  },
  {
   "cell_type": "code",
   "execution_count": 1,
   "metadata": {},
   "outputs": [
    {
     "name": "stdout",
     "output_type": "stream",
     "text": [
      "1\n"
     ]
    },
    {
     "ename": "ZeroDivisionError",
     "evalue": "division by zero",
     "output_type": "error",
     "traceback": [
      "\u001b[0;31m---------------------------------------------------------------------------\u001b[0m",
      "\u001b[0;31mZeroDivisionError\u001b[0m                         Traceback (most recent call last)",
      "\u001b[0;32m/tmp/ipykernel_1053948/312559831.py\u001b[0m in \u001b[0;36m<module>\u001b[0;34m\u001b[0m\n\u001b[1;32m      4\u001b[0m \u001b[0ma\u001b[0m \u001b[0;34m=\u001b[0m \u001b[0;36m1\u001b[0m\u001b[0;34m\u001b[0m\u001b[0;34m\u001b[0m\u001b[0m\n\u001b[1;32m      5\u001b[0m \u001b[0;32mtry\u001b[0m\u001b[0;34m:\u001b[0m\u001b[0;34m\u001b[0m\u001b[0;34m\u001b[0m\u001b[0m\n\u001b[0;32m----> 6\u001b[0;31m     \u001b[0ma\u001b[0m \u001b[0;34m/=\u001b[0m \u001b[0;36m0\u001b[0m\u001b[0;34m\u001b[0m\u001b[0;34m\u001b[0m\u001b[0m\n\u001b[0m\u001b[1;32m      7\u001b[0m \u001b[0;32mfinally\u001b[0m\u001b[0;34m:\u001b[0m\u001b[0;34m\u001b[0m\u001b[0;34m\u001b[0m\u001b[0m\n\u001b[1;32m      8\u001b[0m     \u001b[0mprint\u001b[0m\u001b[0;34m(\u001b[0m\u001b[0ma\u001b[0m\u001b[0;34m)\u001b[0m\u001b[0;34m\u001b[0m\u001b[0;34m\u001b[0m\u001b[0m\n",
      "\u001b[0;31mZeroDivisionError\u001b[0m: division by zero"
     ]
    }
   ],
   "source": [
    "# try/finally：既要将异常向上传播，又要在异常发生时执行清理工作\n",
    "# try/except/else：选择哪些异常由自己的代码处理，哪些异常会传播到上一级，如果无异常，则执行else\n",
    "\n",
    "a = 1\n",
    "try:\n",
    "    a /= 0\n",
    "finally:\n",
    "    print(a)"
   ]
  },
  {
   "cell_type": "markdown",
   "metadata": {},
   "source": [
    "### 了解bytes、str与unicode区别"
   ]
  },
  {
   "cell_type": "code",
   "execution_count": 2,
   "metadata": {},
   "outputs": [],
   "source": [
    "# python 3有两种表示字符序列的类型：bytes和str。\n",
    "# bytes：该的实例包含原始的8位值（原始的字节，由于每个字节有8个二进制位，所以是原始的8位数，也叫原生8位值，纯8位值）\n",
    "# str：该的实例包含unicode字符"
   ]
  },
  {
   "cell_type": "code",
   "execution_count": 14,
   "metadata": {},
   "outputs": [
    {
     "name": "stdout",
     "output_type": "stream",
     "text": [
      "bytes: b'\\xe4\\xbd\\xa0', type: <class 'bytes'>\n",
      "str: 你, type: <class 'str'>\n"
     ]
    }
   ],
   "source": [
    "# unicode字符：表示为二进制数据（原始8位值）有很多种方法，最常见的编码方式就是UTF-8\n",
    "#   把unicode字符转换成二进制数据：encode\n",
    "#   把二进制数据转换成unicode字符串：decode\n",
    "str_ = '你'\n",
    "bytes_ = str_.encode()\n",
    "print(f'bytes: {bytes_}, type: {type(bytes_)}')\n",
    "\n",
    "str__ = bytes_.decode()\n",
    "print(f'str: {str__}, type: {type(str__)}')"
   ]
  },
  {
   "cell_type": "code",
   "execution_count": 48,
   "metadata": {},
   "outputs": [
    {
     "name": "stdout",
     "output_type": "stream",
     "text": [
      "b'a'\n",
      "a\n"
     ]
    }
   ],
   "source": [
    "# 写入和读出二进制数据到文件中\n",
    "# 读取:\n",
    "import os\n",
    "with open('./random.bin', 'wb') as f:\n",
    "    bytes_ = 'a'.encode()\n",
    "    f.write(bytes_)\n",
    "\n",
    "with open('./random.bin', 'rb') as f:\n",
    "    bytes_ = f.readline()\n",
    "    print(bytes_)\n",
    "    print(bytes_.decode())"
   ]
  },
  {
   "cell_type": "markdown",
   "metadata": {},
   "source": []
  }
 ],
 "metadata": {
  "interpreter": {
   "hash": "2c28a781146d2d4fefba01a6455f436900313a44c81a2f6c80f1b26e0042129c"
  },
  "kernelspec": {
   "display_name": "Python 3.8.12 ('grad_inversion')",
   "language": "python",
   "name": "python3"
  },
  "language_info": {
   "codemirror_mode": {
    "name": "ipython",
    "version": 3
   },
   "file_extension": ".py",
   "mimetype": "text/x-python",
   "name": "python",
   "nbconvert_exporter": "python",
   "pygments_lexer": "ipython3",
   "version": "3.8.12"
  },
  "orig_nbformat": 4
 },
 "nbformat": 4,
 "nbformat_minor": 2
}
