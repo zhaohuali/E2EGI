{
 "cells": [
  {
   "cell_type": "markdown",
   "metadata": {},
   "source": [
    "### 迭代器iter，生成器"
   ]
  },
  {
   "cell_type": "code",
   "execution_count": 24,
   "metadata": {},
   "outputs": [
    {
     "name": "stdout",
     "output_type": "stream",
     "text": [
      "iter: <list_iterator object at 0x7fbc72248280>\n",
      "1\n",
      "1\n"
     ]
    }
   ],
   "source": [
    "# iter 会返回迭代器对象，迭代器对象中实现了__next__方法，可用next函数来取值\n",
    "# for x in a: 会调用iter(a)\n",
    "a = [1,2,3,4,5,6,7,8]\n",
    "print(f'iter: {iter(a)}')\n",
    "print(iter(a).__next__())\n",
    "print(next(iter(a)))"
   ]
  },
  {
   "cell_type": "code",
   "execution_count": 36,
   "metadata": {},
   "outputs": [
    {
     "name": "stdout",
     "output_type": "stream",
     "text": [
      "[1, 2, 3, 4, 5, 6, 7, 8]\n",
      "[]\n",
      "\n",
      "[1, 2, 3, 4, 5, 6, 7, 8]\n",
      "[1, 2, 3, 4, 5, 6, 7, 8]\n"
     ]
    }
   ],
   "source": [
    "# 迭代器协议约定 iter：\n",
    "# 以确保调用者传进来的参数，并不是迭代器对象本身\n",
    "# 如果迭代器对象传给内置的iter函数，那么此函数会把迭代器返回\n",
    "# 反之，如果是个容器类型的对象，那么每次都会返回新的迭代器对象\n",
    "a = [1,2,3,4,5,6,7,8]\n",
    "it1 = iter(a)\n",
    "it2 = iter(it1)\n",
    "assert it1 is it2\n",
    "print(list(it1))\n",
    "print(list(it2)) # it1与it2同一个对象，it1在之前的list中已释放完\n",
    "\n",
    "it1 = iter(a)\n",
    "it3 = iter(a)\n",
    "try:\n",
    "    assert it1 is it3\n",
    "except AssertionError as e:\n",
    "    print(e)\n",
    "\n",
    "print(list(it1))\n",
    "print(list(it3)) # it1与it3不是同一个迭代器对象，但值相同"
   ]
  },
  {
   "cell_type": "markdown",
   "metadata": {},
   "source": [
    "### 生成器 generator，next"
   ]
  },
  {
   "cell_type": "code",
   "execution_count": 19,
   "metadata": {},
   "outputs": [
    {
     "name": "stdout",
     "output_type": "stream",
     "text": [
      "it: <generator object generator at 0x7fbc72234d60>, type: <class 'generator'>\n",
      "next: 1\n",
      "next: 2\n",
      "it: <generator object generator at 0x7fbd5b91bd60>, type: <class 'generator'>\n",
      "next: inf\n",
      "next: 1\n",
      "b: [2, 3, 4, 5, 6, 7, 8]\n",
      "c: []\n"
     ]
    }
   ],
   "source": [
    "# 生成器generator使用yield表达式的函数，不会真的运行，而是返回迭代器\n",
    "# 每次在迭代器上面的调用next，迭代器会把生成器推进到下一个yield表达式\n",
    "# 并把yield表达式的结果返回\n",
    "\n",
    "a = [1,2,3,4,5,6,7,8]\n",
    "\n",
    "def generator(data):\n",
    "    for x in data:\n",
    "        yield x\n",
    "\n",
    "it = generator(a)\n",
    "print(f'it: {it}, type: {type(it)}')\n",
    "print(f'next: {next(it)}')\n",
    "print(f'next: {next(it)}')\n",
    "\n",
    "def generator(data):\n",
    "\n",
    "    if data[0] == 1:\n",
    "        yield float('inf')\n",
    "\n",
    "    for x in data:\n",
    "        yield x\n",
    "it = generator(a)\n",
    "print(f'it: {it}, type: {type(it)}')\n",
    "print(f'next: {next(it)}')\n",
    "print(f'next: {next(it)}')\n",
    "\n",
    "# 迭代器只能使用一次\n",
    "b = list(it)\n",
    "print(f'b: {b}')\n",
    "c = list(it)\n",
    "print(f'c: {c}')"
   ]
  },
  {
   "cell_type": "code",
   "execution_count": 16,
   "metadata": {},
   "outputs": [
    {
     "name": "stdout",
     "output_type": "stream",
     "text": [
      "mnist: Dataset MNIST\n",
      "    Number of datapoints: 60000\n",
      "    Root location: /data/lzh/data/datasets/mnist\n",
      "    Split: Train, type: <class 'torchvision.datasets.mnist.MNIST'>\n",
      "['__add__', '__annotations__', '__class__', '__class_getitem__', '__delattr__', '__dict__', '__dir__', '__doc__', '__eq__', '__format__', '__ge__', '__getattr__', '__getattribute__', '__getitem__', '__gt__', '__hash__', '__init__', '__init_subclass__', '__le__', '__len__', '__lt__', '__module__', '__ne__', '__new__', '__orig_bases__', '__parameters__', '__reduce__', '__reduce_ex__', '__repr__', '__setattr__', '__sizeof__', '__slots__', '__str__', '__subclasshook__', '__weakref__', '_check_exists', '_check_legacy_exist', '_format_transform_repr', '_is_protocol', '_load_data', '_load_legacy_data', '_repr_indent', 'class_to_idx', 'classes', 'data', 'download', 'extra_repr', 'functions', 'mirrors', 'processed_folder', 'raw_folder', 'register_datapipe_as_function', 'register_function', 'resources', 'root', 'target_transform', 'targets', 'test_data', 'test_file', 'test_labels', 'train', 'train_data', 'train_labels', 'training_file', 'transform', 'transforms']\n",
      "torch.Size([1, 28, 28]) 5\n"
     ]
    }
   ],
   "source": [
    "import torch\n",
    "import torchvision\n",
    "import torchvision.transforms as transforms\n",
    "\n",
    "mnist = torchvision.datasets.MNIST(r'/data/lzh/data/datasets/mnist')\n",
    "print(f'mnist: {mnist}, type: {type(mnist)}')\n",
    "print(dir(mnist)) # 获得全部成员\n",
    "\n",
    "def load(data):\n",
    "    for x, y in mnist:\n",
    "        x = transforms.ToTensor()(x)\n",
    "        yield x, y\n",
    "\n",
    "loader = load(mnist)\n",
    "x, y = next(loader)\n",
    "print(x.shape, y)"
   ]
  },
  {
   "cell_type": "markdown",
   "metadata": {},
   "source": [
    "### 闭包，nonlocal，global"
   ]
  },
  {
   "cell_type": "code",
   "execution_count": 5,
   "metadata": {},
   "outputs": [
    {
     "name": "stdout",
     "output_type": "stream",
     "text": [
      "2\n",
      "1\n"
     ]
    }
   ],
   "source": [
    "# 作用域bug：防止函数中的局部变量污染函数外面的那个模块\n",
    "\n",
    "def test():\n",
    "    ex_a = 1\n",
    "    def closure():\n",
    "        ex_a = 2 # 此处会创建一个新的变量\n",
    "        print(ex_a)\n",
    "    closure()\n",
    "    print(ex_a)\n",
    "\n",
    "test()"
   ]
  },
  {
   "cell_type": "code",
   "execution_count": 6,
   "metadata": {},
   "outputs": [
    {
     "name": "stdout",
     "output_type": "stream",
     "text": [
      "2\n",
      "2\n"
     ]
    }
   ],
   "source": [
    "# 用 nonlocal 能够获得闭包内的数据，从上层作用域中查找变量\n",
    "# nonlocal的限制：不能延伸到模块级别，防止污染全局作用域\n",
    "# 最好仅在简单的函数中使用\n",
    "def test():\n",
    "    ex_a = 1\n",
    "    def closure():\n",
    "        nonlocal ex_a\n",
    "        ex_a = 2 # 会修改闭包外的变量\n",
    "        print(ex_a)\n",
    "    closure()\n",
    "    print(ex_a)\n",
    "\n",
    "test()"
   ]
  },
  {
   "cell_type": "code",
   "execution_count": 17,
   "metadata": {},
   "outputs": [
    {
     "name": "stdout",
     "output_type": "stream",
     "text": [
      "5\n",
      "5\n"
     ]
    }
   ],
   "source": [
    "# global 将会直接修改模块作用域里的那个变量\n",
    "ex_a = 2\n",
    "\n",
    "def test():\n",
    "    global ex_a\n",
    "    ex_a += 3\n",
    "    print(ex_a)\n",
    "test()\n",
    "print(ex_a)"
   ]
  },
  {
   "cell_type": "markdown",
   "metadata": {},
   "source": [
    "### 合理利用try/except/else/finally结构中的每个代码块"
   ]
  },
  {
   "cell_type": "code",
   "execution_count": 1,
   "metadata": {},
   "outputs": [
    {
     "name": "stdout",
     "output_type": "stream",
     "text": [
      "1\n"
     ]
    },
    {
     "ename": "ZeroDivisionError",
     "evalue": "division by zero",
     "output_type": "error",
     "traceback": [
      "\u001b[0;31m---------------------------------------------------------------------------\u001b[0m",
      "\u001b[0;31mZeroDivisionError\u001b[0m                         Traceback (most recent call last)",
      "\u001b[0;32m/tmp/ipykernel_1053948/312559831.py\u001b[0m in \u001b[0;36m<module>\u001b[0;34m\u001b[0m\n\u001b[1;32m      4\u001b[0m \u001b[0ma\u001b[0m \u001b[0;34m=\u001b[0m \u001b[0;36m1\u001b[0m\u001b[0;34m\u001b[0m\u001b[0;34m\u001b[0m\u001b[0m\n\u001b[1;32m      5\u001b[0m \u001b[0;32mtry\u001b[0m\u001b[0;34m:\u001b[0m\u001b[0;34m\u001b[0m\u001b[0;34m\u001b[0m\u001b[0m\n\u001b[0;32m----> 6\u001b[0;31m     \u001b[0ma\u001b[0m \u001b[0;34m/=\u001b[0m \u001b[0;36m0\u001b[0m\u001b[0;34m\u001b[0m\u001b[0;34m\u001b[0m\u001b[0m\n\u001b[0m\u001b[1;32m      7\u001b[0m \u001b[0;32mfinally\u001b[0m\u001b[0;34m:\u001b[0m\u001b[0;34m\u001b[0m\u001b[0;34m\u001b[0m\u001b[0m\n\u001b[1;32m      8\u001b[0m     \u001b[0mprint\u001b[0m\u001b[0;34m(\u001b[0m\u001b[0ma\u001b[0m\u001b[0;34m)\u001b[0m\u001b[0;34m\u001b[0m\u001b[0;34m\u001b[0m\u001b[0m\n",
      "\u001b[0;31mZeroDivisionError\u001b[0m: division by zero"
     ]
    }
   ],
   "source": [
    "# try/finally：既要将异常向上传播，又要在异常发生时执行清理工作\n",
    "# try/except/else：选择哪些异常由自己的代码处理，哪些异常会传播到上一级，如果无异常，则执行else\n",
    "\n",
    "a = 1\n",
    "try:\n",
    "    a /= 0\n",
    "finally:\n",
    "    print(a)"
   ]
  },
  {
   "cell_type": "markdown",
   "metadata": {},
   "source": [
    "### 了解bytes、str与unicode区别"
   ]
  },
  {
   "cell_type": "code",
   "execution_count": 2,
   "metadata": {},
   "outputs": [],
   "source": [
    "# python 3有两种表示字符序列的类型：bytes和str。\n",
    "# bytes：该的实例包含原始的8位值（原始的字节，由于每个字节有8个二进制位，所以是原始的8位数，也叫原生8位值，纯8位值）\n",
    "# str：该的实例包含unicode字符"
   ]
  },
  {
   "cell_type": "code",
   "execution_count": 14,
   "metadata": {},
   "outputs": [
    {
     "name": "stdout",
     "output_type": "stream",
     "text": [
      "bytes: b'\\xe4\\xbd\\xa0', type: <class 'bytes'>\n",
      "str: 你, type: <class 'str'>\n"
     ]
    }
   ],
   "source": [
    "# unicode字符：表示为二进制数据（原始8位值）有很多种方法，最常见的编码方式就是UTF-8\n",
    "#   把unicode字符转换成二进制数据：encode\n",
    "#   把二进制数据转换成unicode字符串：decode\n",
    "str_ = '你'\n",
    "bytes_ = str_.encode()\n",
    "print(f'bytes: {bytes_}, type: {type(bytes_)}')\n",
    "\n",
    "str__ = bytes_.decode()\n",
    "print(f'str: {str__}, type: {type(str__)}')"
   ]
  },
  {
   "cell_type": "code",
   "execution_count": 48,
   "metadata": {},
   "outputs": [
    {
     "name": "stdout",
     "output_type": "stream",
     "text": [
      "b'a'\n",
      "a\n"
     ]
    }
   ],
   "source": [
    "# 写入和读出二进制数据到文件中\n",
    "# 读取:\n",
    "import os\n",
    "with open('./random.bin', 'wb') as f:\n",
    "    bytes_ = 'a'.encode()\n",
    "    f.write(bytes_)\n",
    "\n",
    "with open('./random.bin', 'rb') as f:\n",
    "    bytes_ = f.readline()\n",
    "    print(bytes_)\n",
    "    print(bytes_.decode())"
   ]
  },
  {
   "cell_type": "markdown",
   "metadata": {},
   "source": []
  }
 ],
 "metadata": {
  "interpreter": {
   "hash": "2c28a781146d2d4fefba01a6455f436900313a44c81a2f6c80f1b26e0042129c"
  },
  "kernelspec": {
   "display_name": "Python 3.8.12 ('grad_inversion')",
   "language": "python",
   "name": "python3"
  },
  "language_info": {
   "codemirror_mode": {
    "name": "ipython",
    "version": 3
   },
   "file_extension": ".py",
   "mimetype": "text/x-python",
   "name": "python",
   "nbconvert_exporter": "python",
   "pygments_lexer": "ipython3",
   "version": "3.8.12"
  },
  "orig_nbformat": 4
 },
 "nbformat": 4,
 "nbformat_minor": 2
}
